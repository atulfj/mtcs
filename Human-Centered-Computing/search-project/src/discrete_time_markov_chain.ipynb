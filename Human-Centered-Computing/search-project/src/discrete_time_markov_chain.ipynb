{
 "cells": [
  {
   "cell_type": "code",
   "execution_count": 1,
   "id": "a7231e35",
   "metadata": {},
   "outputs": [
    {
     "name": "stderr",
     "output_type": "stream",
     "text": [
      "2023-08-20 13:02:31.982830: I tensorflow/core/util/port.cc:110] oneDNN custom operations are on. You may see slightly different numerical results due to floating-point round-off errors from different computation orders. To turn them off, set the environment variable `TF_ENABLE_ONEDNN_OPTS=0`.\n",
      "2023-08-20 13:02:31.992071: I tensorflow/tsl/cuda/cudart_stub.cc:28] Could not find cuda drivers on your machine, GPU will not be used.\n",
      "2023-08-20 13:02:32.027550: I tensorflow/tsl/cuda/cudart_stub.cc:28] Could not find cuda drivers on your machine, GPU will not be used.\n",
      "2023-08-20 13:02:32.028505: I tensorflow/core/platform/cpu_feature_guard.cc:182] This TensorFlow binary is optimized to use available CPU instructions in performance-critical operations.\n",
      "To enable the following instructions: AVX2 AVX512F AVX512_VNNI FMA, in other operations, rebuild TensorFlow with the appropriate compiler flags.\n",
      "2023-08-20 13:02:32.569556: W tensorflow/compiler/tf2tensorrt/utils/py_utils.cc:38] TF-TRT Warning: Could not find TensorRT\n"
     ]
    }
   ],
   "source": [
    "import numpy as np\n",
    "import pandas as pd\n",
    "import requests\n",
    "from bs4 import BeautifulSoup\n",
    "from bertopic import BERTopic\n",
    "from get_title import *\n",
    "from tqdm import tqdm"
   ]
  },
  {
   "cell_type": "code",
   "execution_count": 2,
   "id": "367a6807",
   "metadata": {},
   "outputs": [
    {
     "data": {
      "text/html": [
       "<div>\n",
       "<style scoped>\n",
       "    .dataframe tbody tr th:only-of-type {\n",
       "        vertical-align: middle;\n",
       "    }\n",
       "\n",
       "    .dataframe tbody tr th {\n",
       "        vertical-align: top;\n",
       "    }\n",
       "\n",
       "    .dataframe thead th {\n",
       "        text-align: right;\n",
       "    }\n",
       "</style>\n",
       "<table border=\"1\" class=\"dataframe\">\n",
       "  <thead>\n",
       "    <tr style=\"text-align: right;\">\n",
       "      <th></th>\n",
       "      <th>id</th>\n",
       "      <th>url</th>\n",
       "      <th>visit_time</th>\n",
       "      <th>from_visit</th>\n",
       "      <th>visit_duration</th>\n",
       "    </tr>\n",
       "  </thead>\n",
       "  <tbody>\n",
       "    <tr>\n",
       "      <th>0</th>\n",
       "      <td>55623</td>\n",
       "      <td>19110</td>\n",
       "      <td>2023-08-17 08:43:58</td>\n",
       "      <td>0</td>\n",
       "      <td>509</td>\n",
       "    </tr>\n",
       "    <tr>\n",
       "      <th>1</th>\n",
       "      <td>55622</td>\n",
       "      <td>19120</td>\n",
       "      <td>2023-08-17 08:38:14</td>\n",
       "      <td>55621</td>\n",
       "      <td>852</td>\n",
       "    </tr>\n",
       "    <tr>\n",
       "      <th>2</th>\n",
       "      <td>55621</td>\n",
       "      <td>19119</td>\n",
       "      <td>2023-08-17 08:38:13</td>\n",
       "      <td>0</td>\n",
       "      <td>1</td>\n",
       "    </tr>\n",
       "    <tr>\n",
       "      <th>3</th>\n",
       "      <td>55620</td>\n",
       "      <td>19119</td>\n",
       "      <td>2023-08-17 08:38:12</td>\n",
       "      <td>0</td>\n",
       "      <td>0</td>\n",
       "    </tr>\n",
       "    <tr>\n",
       "      <th>4</th>\n",
       "      <td>55619</td>\n",
       "      <td>19118</td>\n",
       "      <td>2023-08-17 08:30:57</td>\n",
       "      <td>55618</td>\n",
       "      <td>1290</td>\n",
       "    </tr>\n",
       "  </tbody>\n",
       "</table>\n",
       "</div>"
      ],
      "text/plain": [
       "      id    url           visit_time  from_visit  visit_duration\n",
       "0  55623  19110  2023-08-17 08:43:58           0             509\n",
       "1  55622  19120  2023-08-17 08:38:14       55621             852\n",
       "2  55621  19119  2023-08-17 08:38:13           0               1\n",
       "3  55620  19119  2023-08-17 08:38:12           0               0\n",
       "4  55619  19118  2023-08-17 08:30:57       55618            1290"
      ]
     },
     "execution_count": 2,
     "metadata": {},
     "output_type": "execute_result"
    }
   ],
   "source": [
    "visits = pd.read_csv('../tables/visits.csv')\n",
    "urls = pd.read_csv('../tables/urls.csv')\n",
    "visits.head()"
   ]
  },
  {
   "cell_type": "code",
   "execution_count": 3,
   "id": "933cf14c",
   "metadata": {},
   "outputs": [],
   "source": [
    "n_topics = 10"
   ]
  },
  {
   "cell_type": "code",
   "execution_count": 16,
   "id": "f1b72ad1",
   "metadata": {},
   "outputs": [
    {
     "data": {
      "text/plain": [
       "[[0, 0, 0, 0, 0, 0, 0, 0, 0, 0],\n",
       " [0, 0, 0, 0, 0, 0, 0, 0, 0, 0],\n",
       " [0, 0, 0, 0, 0, 0, 0, 0, 0, 0],\n",
       " [0, 0, 0, 0, 0, 0, 0, 0, 0, 0],\n",
       " [0, 0, 0, 0, 0, 0, 0, 0, 0, 0],\n",
       " [0, 0, 0, 0, 0, 0, 0, 0, 0, 0],\n",
       " [0, 0, 0, 0, 0, 0, 0, 0, 0, 0],\n",
       " [0, 0, 0, 0, 0, 0, 0, 0, 0, 0],\n",
       " [0, 0, 0, 0, 0, 0, 0, 0, 0, 0],\n",
       " [0, 0, 0, 0, 0, 0, 0, 0, 0, 0]]"
      ]
     },
     "execution_count": 16,
     "metadata": {},
     "output_type": "execute_result"
    }
   ],
   "source": [
    "P = [[0]*n_topics for _ in range(n_topics)]\n",
    "P"
   ]
  },
  {
   "cell_type": "code",
   "execution_count": 17,
   "id": "a689d32e",
   "metadata": {},
   "outputs": [],
   "source": [
    "transitions = []\n",
    "to_url = None\n",
    "for idx, row in visits.iterrows():\n",
    "    if row[3]==0:\n",
    "        if to_url:\n",
    "            transitions.append([to_url, row[1]])\n",
    "        continue\n",
    "    to_url = row[1]\n",
    "    from_url = visits.query(f\"id=={row[3]}\").url.item()\n",
    "    if from_url != to_url:\n",
    "        transitions.append([from_url, to_url])"
   ]
  },
  {
   "cell_type": "code",
   "execution_count": 10,
   "id": "43a36673",
   "metadata": {},
   "outputs": [
    {
     "data": {
      "text/plain": [
       "5080"
      ]
     },
     "execution_count": 10,
     "metadata": {},
     "output_type": "execute_result"
    }
   ],
   "source": [
    "len(transitions)"
   ]
  },
  {
   "cell_type": "code",
   "execution_count": 11,
   "id": "8ceb571e",
   "metadata": {},
   "outputs": [
    {
     "name": "stdout",
     "output_type": "stream",
     "text": [
      "https://pandas.pydata.org/docs/reference/api/pandas.to_datetime.html\n"
     ]
    },
    {
     "data": {
      "text/plain": [
       "4"
      ]
     },
     "execution_count": 11,
     "metadata": {},
     "output_type": "execute_result"
    }
   ],
   "source": [
    "url = urls.query(f\"id=={transitions[0][1]}\").url.item()\n",
    "print(url)\n",
    "topic = get_topic(url)[0][0]\n",
    "topic"
   ]
  },
  {
   "cell_type": "code",
   "execution_count": 12,
   "id": "5b022edc",
   "metadata": {},
   "outputs": [],
   "source": [
    "P = [[0]*n_topics for _ in range(n_topics)]\n",
    "for idx, t in enumerate(transitions):\n",
    "    topic1, topic2 = get_topic(t[0], True), get_topic(t[1], True)\n",
    "    if topic1 and topic2:\n",
    "        P[topic1[0][0]][topic2[0][0]] += 1"
   ]
  },
  {
   "cell_type": "code",
   "execution_count": 13,
   "id": "e3763167",
   "metadata": {},
   "outputs": [
    {
     "data": {
      "text/plain": [
       "[[217, 1, 73, 5, 1, 1, 5, 1, 0, 25],\n",
       " [1, 774, 6, 141, 2, 0, 0, 0, 0, 17],\n",
       " [87, 9, 1404, 75, 132, 26, 18, 90, 12, 120],\n",
       " [3, 121, 40, 550, 6, 0, 1, 0, 1, 41],\n",
       " [1, 1, 10, 2, 47, 0, 0, 0, 0, 1],\n",
       " [1, 2, 8, 2, 1, 75, 3, 0, 0, 9],\n",
       " [1, 1, 29, 2, 1, 1, 52, 0, 0, 7],\n",
       " [0, 0, 10, 1, 1, 0, 0, 44, 2, 3],\n",
       " [0, 1, 4, 0, 0, 1, 0, 1, 5, 0],\n",
       " [32, 75, 159, 127, 5, 8, 16, 10, 1, 311]]"
      ]
     },
     "execution_count": 13,
     "metadata": {},
     "output_type": "execute_result"
    }
   ],
   "source": [
    "P"
   ]
  },
  {
   "cell_type": "code",
   "execution_count": 14,
   "id": "d5477391",
   "metadata": {},
   "outputs": [],
   "source": [
    "for idx, row in enumerate(P):\n",
    "    total = sum(row)\n",
    "    for idx, _ in enumerate(row):\n",
    "        row[idx] = round(row[idx]/total, 2)"
   ]
  },
  {
   "cell_type": "code",
   "execution_count": 15,
   "id": "07a42bc9",
   "metadata": {},
   "outputs": [
    {
     "data": {
      "text/plain": [
       "[[0.66, 0.0, 0.22, 0.02, 0.0, 0.0, 0.02, 0.0, 0.0, 0.08],\n",
       " [0.0, 0.82, 0.01, 0.15, 0.0, 0.0, 0.0, 0.0, 0.0, 0.02],\n",
       " [0.04, 0.0, 0.71, 0.04, 0.07, 0.01, 0.01, 0.05, 0.01, 0.06],\n",
       " [0.0, 0.16, 0.05, 0.72, 0.01, 0.0, 0.0, 0.0, 0.0, 0.05],\n",
       " [0.02, 0.02, 0.16, 0.03, 0.76, 0.0, 0.0, 0.0, 0.0, 0.02],\n",
       " [0.01, 0.02, 0.08, 0.02, 0.01, 0.74, 0.03, 0.0, 0.0, 0.09],\n",
       " [0.01, 0.01, 0.31, 0.02, 0.01, 0.01, 0.55, 0.0, 0.0, 0.07],\n",
       " [0.0, 0.0, 0.16, 0.02, 0.02, 0.0, 0.0, 0.72, 0.03, 0.05],\n",
       " [0.0, 0.08, 0.33, 0.0, 0.0, 0.08, 0.0, 0.08, 0.42, 0.0],\n",
       " [0.04, 0.1, 0.21, 0.17, 0.01, 0.01, 0.02, 0.01, 0.0, 0.42]]"
      ]
     },
     "execution_count": 15,
     "metadata": {},
     "output_type": "execute_result"
    }
   ],
   "source": [
    "P"
   ]
  },
  {
   "cell_type": "code",
   "execution_count": 43,
   "id": "7418e000",
   "metadata": {},
   "outputs": [
    {
     "name": "stdout",
     "output_type": "stream",
     "text": [
      "[[0.52 0.06 0.12 0.26 0.   0.01 0.01 0.01 0.  ]\n",
      " [0.1  0.54 0.08 0.25 0.   0.01 0.01 0.   0.  ]\n",
      " [0.19 0.08 0.45 0.19 0.02 0.01 0.03 0.02 0.01]\n",
      " [0.09 0.19 0.14 0.56 0.01 0.   0.   0.   0.  ]\n",
      " [0.05 0.02 0.24 0.07 0.56 0.01 0.01 0.04 0.  ]\n",
      " [0.45 0.05 0.1  0.19 0.   0.18 0.02 0.   0.  ]\n",
      " [0.32 0.08 0.17 0.23 0.   0.   0.19 0.01 0.  ]\n",
      " [0.29 0.03 0.21 0.22 0.01 0.   0.   0.22 0.01]\n",
      " [0.19 0.22 0.18 0.3  0.   0.01 0.   0.01 0.1 ]]\n",
      "\n",
      "\n",
      "\n",
      "[[0.3332 0.1242 0.1624 0.325  0.0051 0.0088 0.0115 0.0099 0.0013]\n",
      " [0.1514 0.3528 0.1289 0.3204 0.0041 0.009  0.0109 0.0027 0.0008]\n",
      " [0.2322 0.1328 0.2752 0.2789 0.0223 0.0093 0.0223 0.0165 0.0057]\n",
      " [0.1433 0.2258 0.1698 0.4118 0.014  0.0043 0.0071 0.0041 0.0014]\n",
      " [0.1272 0.06   0.2709 0.155  0.3195 0.0105 0.0156 0.0366 0.0028]\n",
      " [0.3625 0.1087 0.151  0.2937 0.0039 0.0384 0.0154 0.0067 0.001 ]\n",
      " [0.2911 0.1352 0.1879 0.3102 0.0058 0.0057 0.0452 0.0107 0.0018]\n",
      " [0.2797 0.1012 0.2129 0.2981 0.0142 0.0055 0.0096 0.056  0.0053]\n",
      " [0.2084 0.2244 0.1845 0.3407 0.0067 0.0087 0.0097 0.0087 0.0119]]\n",
      "\n",
      "\n",
      "\n",
      "[[0.256803 0.163847 0.174872 0.33778  0.009453 0.007846 0.011858 0.00909\n",
      "  0.001853]\n",
      " [0.176013 0.272445 0.153701 0.336817 0.008105 0.008    0.011201 0.004967\n",
      "  0.001396]\n",
      " [0.229717 0.165095 0.215938 0.315841 0.020946 0.008356 0.016552 0.012628\n",
      "  0.003487]\n",
      " [0.172782 0.22385  0.175432 0.36133  0.015395 0.006317 0.01036  0.006376\n",
      "  0.001879]\n",
      " [0.174403 0.101031 0.252241 0.223183 0.186254 0.009694 0.016368 0.027706\n",
      "  0.003355]\n",
      " [0.279029 0.151982 0.170245 0.327472 0.008208 0.013183 0.012975 0.008439\n",
      "  0.001677]\n",
      " [0.249275 0.169178 0.185948 0.333678 0.010215 0.007244 0.01866  0.009725\n",
      "  0.002166]\n",
      " [0.246348 0.149274 0.197503 0.323566 0.015751 0.007123 0.012272 0.020092\n",
      "  0.003219]\n",
      " [0.208664 0.217397 0.181779 0.345968 0.010936 0.007925 0.011947 0.008172\n",
      "  0.003122]]\n",
      "\n",
      "\n",
      "\n",
      "[[0.22433422 0.18426388 0.17721734 0.3375485  0.01225982 0.00748056\n",
      "  0.01195713 0.0085805  0.00202492]\n",
      " [0.18758322 0.2358867  0.16518071 0.33787046 0.01103066 0.0075566\n",
      "  0.01146485 0.00637706 0.00172628]\n",
      " [0.21984504 0.18352601 0.1941195  0.32958443 0.01933321 0.00785591\n",
      "  0.01394772 0.01043232 0.00263436]\n",
      " [0.18721707 0.21599039 0.17593732 0.3431898  0.0158069  0.00703044\n",
      "  0.01147797 0.00737737 0.00200598]\n",
      " [0.19638987 0.13469347 0.22863999 0.2692569  0.11185595 0.00891776\n",
      "  0.01548791 0.02053156 0.00313497]\n",
      " [0.235373   0.17713472 0.17566639 0.33469717 0.01136049 0.00848435\n",
      "  0.01222845 0.00852661 0.00195454]\n",
      " [0.22487548 0.18741485 0.18261909 0.33846831 0.01287339 0.00747174\n",
      "  0.0135554  0.00896807 0.00217333]\n",
      " [0.2240331  0.17563049 0.18705679 0.33075595 0.0162072  0.00740309\n",
      "  0.01251296 0.01161873 0.00249785]\n",
      " [0.20681926 0.21269319 0.18039372 0.3446355  0.01330114 0.00764548\n",
      "  0.01225177 0.00810819 0.00221171]]\n",
      "\n",
      "\n",
      "\n"
     ]
    }
   ],
   "source": [
    "P = np.array(P)\n",
    "print(P)\n",
    "print(\"\\n\\n\")\n",
    "print(P @ P)\n",
    "print(\"\\n\\n\")\n",
    "print(P @ P @ P)\n",
    "print(\"\\n\\n\")\n",
    "print(P @ P @ P @ P)\n",
    "print(\"\\n\\n\")"
   ]
  },
  {
   "cell_type": "code",
   "execution_count": null,
   "id": "9e1c26bd",
   "metadata": {},
   "outputs": [],
   "source": []
  }
 ],
 "metadata": {
  "kernelspec": {
   "display_name": "Python 3 (ipykernel)",
   "language": "python",
   "name": "python3"
  },
  "language_info": {
   "codemirror_mode": {
    "name": "ipython",
    "version": 3
   },
   "file_extension": ".py",
   "mimetype": "text/x-python",
   "name": "python",
   "nbconvert_exporter": "python",
   "pygments_lexer": "ipython3",
   "version": "3.10.12"
  }
 },
 "nbformat": 4,
 "nbformat_minor": 5
}
