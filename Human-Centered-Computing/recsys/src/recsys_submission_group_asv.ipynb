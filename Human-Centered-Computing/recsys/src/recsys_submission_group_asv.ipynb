{
  "cells": [
    {
      "cell_type": "markdown",
      "id": "d02225a6",
      "metadata": {
        "id": "d02225a6"
      },
      "source": [
        "# Movie Recommendation System with Graph Neural Network\n",
        "In this notebook, we develop a movie recommendation system based on the MovieLens-100K dataset. We implement a Graph Neural Network ([GNN](https://distill.pub/2021/gnn-intro/)) architecture, [LighGCN](https://arxiv.org/abs/2002.02126). We build it with the help of a library called [PyTorch Geometric](https://pytorch-geometric.readthedocs.io/en/latest/), which is a special library for doing GNN tasks and is built on top of [PyTorch](https://pytorch.org/).\n",
        "\n",
        "This implementation was inspired and referenced from the following sources:\n",
        "- https://github.com/gusye1234/LightGCN-PyTorch\n",
        "- https://www.kaggle.com/dipanjandas96/lightgcn-pytorch-from-scratch\n",
        "- https://medium.com/stanford-cs224wrecommender-systems-with-gnns-in-pyg-d8301178e377\n",
        "- https://medium.com/stanford-cs224w/lightgcn-with-pytorch-geometric-91bab836471e\n",
        "\n",
        "(Google Colab with T4 GPU runtime is recommended for running this notebook. Adjust the filenames accordingly.)"
      ]
    },
    {
      "cell_type": "code",
      "execution_count": 63,
      "id": "10a553e8",
      "metadata": {
        "id": "10a553e8"
      },
      "outputs": [],
      "source": [
        "# hides output\n",
        "%%capture\n",
        "\n",
        "import torch\n",
        "\n",
        "!pip uninstall torch-scatter torch-sparse torch-geometric torch-cluster  --y\n",
        "!pip install torch-scatter -f https://data.pyg.org/whl/torch-{torch.__version__}.html\n",
        "!pip install torch-sparse -f https://data.pyg.org/whl/torch-{torch.__version__}.html\n",
        "!pip install torch-cluster -f https://data.pyg.org/whl/torch-{torch.__version__}.html\n",
        "!pip install git+https://github.com/pyg-team/pytorch_geometric.git"
      ]
    },
    {
      "cell_type": "code",
      "execution_count": 64,
      "id": "010e4f85",
      "metadata": {
        "id": "010e4f85"
      },
      "outputs": [],
      "source": [
        "import random\n",
        "from tqdm.notebook import tqdm\n",
        "import pandas as pd\n",
        "import numpy as np\n",
        "import matplotlib.pyplot as plt\n",
        "from sklearn import model_selection, metrics, preprocessing\n",
        "from sklearn.model_selection import train_test_split\n",
        "import copy\n",
        "import torch.nn as nn\n",
        "from torch_geometric.utils import degree\n",
        "import torch.nn.functional as F\n",
        "from torch_sparse import SparseTensor, matmul\n",
        "from torch_geometric.utils import structured_negative_sampling\n",
        "from torch_geometric.nn.conv import MessagePassing\n",
        "from torch_geometric.nn.conv.gcn_conv import gcn_norm\n",
        "from torch_geometric.typing import Adj"
      ]
    },
    {
      "cell_type": "code",
      "execution_count": 65,
      "id": "8135d15a",
      "metadata": {
        "colab": {
          "base_uri": "https://localhost:8080/"
        },
        "id": "8135d15a",
        "outputId": "dca7db68-bc7a-43fc-8053-cfff1105772b"
      },
      "outputs": [
        {
          "output_type": "stream",
          "name": "stdout",
          "text": [
            "running on cuda:0\n"
          ]
        }
      ],
      "source": [
        "device = torch.device(\"cuda:0\" if torch.cuda.is_available() else \"cpu\")\n",
        "print(f\"running on {device}\")"
      ]
    },
    {
      "cell_type": "markdown",
      "id": "cf8a8e0f",
      "metadata": {
        "id": "cf8a8e0f"
      },
      "source": [
        "## Dataset preprocessing"
      ]
    },
    {
      "cell_type": "code",
      "execution_count": 66,
      "id": "2fec7ece",
      "metadata": {
        "colab": {
          "base_uri": "https://localhost:8080/",
          "height": 224
        },
        "id": "2fec7ece",
        "outputId": "9027dcf2-a7aa-4455-e1aa-23ac1759d4bc"
      },
      "outputs": [
        {
          "output_type": "stream",
          "name": "stdout",
          "text": [
            "(100000, 4)\n"
          ]
        },
        {
          "output_type": "execute_result",
          "data": {
            "text/plain": [
              "   user_id  item_id  rating  timestamp\n",
              "0      196      242       3  881250949\n",
              "1      186      302       3  891717742\n",
              "2       22      377       1  878887116\n",
              "3      244       51       2  880606923\n",
              "4      166      346       1  886397596"
            ],
            "text/html": [
              "\n",
              "  <div id=\"df-babfcbaf-e488-4f73-b03e-f24647766796\" class=\"colab-df-container\">\n",
              "    <div>\n",
              "<style scoped>\n",
              "    .dataframe tbody tr th:only-of-type {\n",
              "        vertical-align: middle;\n",
              "    }\n",
              "\n",
              "    .dataframe tbody tr th {\n",
              "        vertical-align: top;\n",
              "    }\n",
              "\n",
              "    .dataframe thead th {\n",
              "        text-align: right;\n",
              "    }\n",
              "</style>\n",
              "<table border=\"1\" class=\"dataframe\">\n",
              "  <thead>\n",
              "    <tr style=\"text-align: right;\">\n",
              "      <th></th>\n",
              "      <th>user_id</th>\n",
              "      <th>item_id</th>\n",
              "      <th>rating</th>\n",
              "      <th>timestamp</th>\n",
              "    </tr>\n",
              "  </thead>\n",
              "  <tbody>\n",
              "    <tr>\n",
              "      <th>0</th>\n",
              "      <td>196</td>\n",
              "      <td>242</td>\n",
              "      <td>3</td>\n",
              "      <td>881250949</td>\n",
              "    </tr>\n",
              "    <tr>\n",
              "      <th>1</th>\n",
              "      <td>186</td>\n",
              "      <td>302</td>\n",
              "      <td>3</td>\n",
              "      <td>891717742</td>\n",
              "    </tr>\n",
              "    <tr>\n",
              "      <th>2</th>\n",
              "      <td>22</td>\n",
              "      <td>377</td>\n",
              "      <td>1</td>\n",
              "      <td>878887116</td>\n",
              "    </tr>\n",
              "    <tr>\n",
              "      <th>3</th>\n",
              "      <td>244</td>\n",
              "      <td>51</td>\n",
              "      <td>2</td>\n",
              "      <td>880606923</td>\n",
              "    </tr>\n",
              "    <tr>\n",
              "      <th>4</th>\n",
              "      <td>166</td>\n",
              "      <td>346</td>\n",
              "      <td>1</td>\n",
              "      <td>886397596</td>\n",
              "    </tr>\n",
              "  </tbody>\n",
              "</table>\n",
              "</div>\n",
              "    <div class=\"colab-df-buttons\">\n",
              "\n",
              "  <div class=\"colab-df-container\">\n",
              "    <button class=\"colab-df-convert\" onclick=\"convertToInteractive('df-babfcbaf-e488-4f73-b03e-f24647766796')\"\n",
              "            title=\"Convert this dataframe to an interactive table.\"\n",
              "            style=\"display:none;\">\n",
              "\n",
              "  <svg xmlns=\"http://www.w3.org/2000/svg\" height=\"24px\" viewBox=\"0 -960 960 960\">\n",
              "    <path d=\"M120-120v-720h720v720H120Zm60-500h600v-160H180v160Zm220 220h160v-160H400v160Zm0 220h160v-160H400v160ZM180-400h160v-160H180v160Zm440 0h160v-160H620v160ZM180-180h160v-160H180v160Zm440 0h160v-160H620v160Z\"/>\n",
              "  </svg>\n",
              "    </button>\n",
              "\n",
              "  <style>\n",
              "    .colab-df-container {\n",
              "      display:flex;\n",
              "      gap: 12px;\n",
              "    }\n",
              "\n",
              "    .colab-df-convert {\n",
              "      background-color: #E8F0FE;\n",
              "      border: none;\n",
              "      border-radius: 50%;\n",
              "      cursor: pointer;\n",
              "      display: none;\n",
              "      fill: #1967D2;\n",
              "      height: 32px;\n",
              "      padding: 0 0 0 0;\n",
              "      width: 32px;\n",
              "    }\n",
              "\n",
              "    .colab-df-convert:hover {\n",
              "      background-color: #E2EBFA;\n",
              "      box-shadow: 0px 1px 2px rgba(60, 64, 67, 0.3), 0px 1px 3px 1px rgba(60, 64, 67, 0.15);\n",
              "      fill: #174EA6;\n",
              "    }\n",
              "\n",
              "    .colab-df-buttons div {\n",
              "      margin-bottom: 4px;\n",
              "    }\n",
              "\n",
              "    [theme=dark] .colab-df-convert {\n",
              "      background-color: #3B4455;\n",
              "      fill: #D2E3FC;\n",
              "    }\n",
              "\n",
              "    [theme=dark] .colab-df-convert:hover {\n",
              "      background-color: #434B5C;\n",
              "      box-shadow: 0px 1px 3px 1px rgba(0, 0, 0, 0.15);\n",
              "      filter: drop-shadow(0px 1px 2px rgba(0, 0, 0, 0.3));\n",
              "      fill: #FFFFFF;\n",
              "    }\n",
              "  </style>\n",
              "\n",
              "    <script>\n",
              "      const buttonEl =\n",
              "        document.querySelector('#df-babfcbaf-e488-4f73-b03e-f24647766796 button.colab-df-convert');\n",
              "      buttonEl.style.display =\n",
              "        google.colab.kernel.accessAllowed ? 'block' : 'none';\n",
              "\n",
              "      async function convertToInteractive(key) {\n",
              "        const element = document.querySelector('#df-babfcbaf-e488-4f73-b03e-f24647766796');\n",
              "        const dataTable =\n",
              "          await google.colab.kernel.invokeFunction('convertToInteractive',\n",
              "                                                    [key], {});\n",
              "        if (!dataTable) return;\n",
              "\n",
              "        const docLinkHtml = 'Like what you see? Visit the ' +\n",
              "          '<a target=\"_blank\" href=https://colab.research.google.com/notebooks/data_table.ipynb>data table notebook</a>'\n",
              "          + ' to learn more about interactive tables.';\n",
              "        element.innerHTML = '';\n",
              "        dataTable['output_type'] = 'display_data';\n",
              "        await google.colab.output.renderOutput(dataTable, element);\n",
              "        const docLink = document.createElement('div');\n",
              "        docLink.innerHTML = docLinkHtml;\n",
              "        element.appendChild(docLink);\n",
              "      }\n",
              "    </script>\n",
              "  </div>\n",
              "\n",
              "\n",
              "<div id=\"df-f0bea76e-c5f0-4d15-bed6-f7986db380bd\">\n",
              "  <button class=\"colab-df-quickchart\" onclick=\"quickchart('df-f0bea76e-c5f0-4d15-bed6-f7986db380bd')\"\n",
              "            title=\"Suggest charts.\"\n",
              "            style=\"display:none;\">\n",
              "\n",
              "<svg xmlns=\"http://www.w3.org/2000/svg\" height=\"24px\"viewBox=\"0 0 24 24\"\n",
              "     width=\"24px\">\n",
              "    <g>\n",
              "        <path d=\"M19 3H5c-1.1 0-2 .9-2 2v14c0 1.1.9 2 2 2h14c1.1 0 2-.9 2-2V5c0-1.1-.9-2-2-2zM9 17H7v-7h2v7zm4 0h-2V7h2v10zm4 0h-2v-4h2v4z\"/>\n",
              "    </g>\n",
              "</svg>\n",
              "  </button>\n",
              "\n",
              "<style>\n",
              "  .colab-df-quickchart {\n",
              "      --bg-color: #E8F0FE;\n",
              "      --fill-color: #1967D2;\n",
              "      --hover-bg-color: #E2EBFA;\n",
              "      --hover-fill-color: #174EA6;\n",
              "      --disabled-fill-color: #AAA;\n",
              "      --disabled-bg-color: #DDD;\n",
              "  }\n",
              "\n",
              "  [theme=dark] .colab-df-quickchart {\n",
              "      --bg-color: #3B4455;\n",
              "      --fill-color: #D2E3FC;\n",
              "      --hover-bg-color: #434B5C;\n",
              "      --hover-fill-color: #FFFFFF;\n",
              "      --disabled-bg-color: #3B4455;\n",
              "      --disabled-fill-color: #666;\n",
              "  }\n",
              "\n",
              "  .colab-df-quickchart {\n",
              "    background-color: var(--bg-color);\n",
              "    border: none;\n",
              "    border-radius: 50%;\n",
              "    cursor: pointer;\n",
              "    display: none;\n",
              "    fill: var(--fill-color);\n",
              "    height: 32px;\n",
              "    padding: 0;\n",
              "    width: 32px;\n",
              "  }\n",
              "\n",
              "  .colab-df-quickchart:hover {\n",
              "    background-color: var(--hover-bg-color);\n",
              "    box-shadow: 0 1px 2px rgba(60, 64, 67, 0.3), 0 1px 3px 1px rgba(60, 64, 67, 0.15);\n",
              "    fill: var(--button-hover-fill-color);\n",
              "  }\n",
              "\n",
              "  .colab-df-quickchart-complete:disabled,\n",
              "  .colab-df-quickchart-complete:disabled:hover {\n",
              "    background-color: var(--disabled-bg-color);\n",
              "    fill: var(--disabled-fill-color);\n",
              "    box-shadow: none;\n",
              "  }\n",
              "\n",
              "  .colab-df-spinner {\n",
              "    border: 2px solid var(--fill-color);\n",
              "    border-color: transparent;\n",
              "    border-bottom-color: var(--fill-color);\n",
              "    animation:\n",
              "      spin 1s steps(1) infinite;\n",
              "  }\n",
              "\n",
              "  @keyframes spin {\n",
              "    0% {\n",
              "      border-color: transparent;\n",
              "      border-bottom-color: var(--fill-color);\n",
              "      border-left-color: var(--fill-color);\n",
              "    }\n",
              "    20% {\n",
              "      border-color: transparent;\n",
              "      border-left-color: var(--fill-color);\n",
              "      border-top-color: var(--fill-color);\n",
              "    }\n",
              "    30% {\n",
              "      border-color: transparent;\n",
              "      border-left-color: var(--fill-color);\n",
              "      border-top-color: var(--fill-color);\n",
              "      border-right-color: var(--fill-color);\n",
              "    }\n",
              "    40% {\n",
              "      border-color: transparent;\n",
              "      border-right-color: var(--fill-color);\n",
              "      border-top-color: var(--fill-color);\n",
              "    }\n",
              "    60% {\n",
              "      border-color: transparent;\n",
              "      border-right-color: var(--fill-color);\n",
              "    }\n",
              "    80% {\n",
              "      border-color: transparent;\n",
              "      border-right-color: var(--fill-color);\n",
              "      border-bottom-color: var(--fill-color);\n",
              "    }\n",
              "    90% {\n",
              "      border-color: transparent;\n",
              "      border-bottom-color: var(--fill-color);\n",
              "    }\n",
              "  }\n",
              "</style>\n",
              "\n",
              "  <script>\n",
              "    async function quickchart(key) {\n",
              "      const quickchartButtonEl =\n",
              "        document.querySelector('#' + key + ' button');\n",
              "      quickchartButtonEl.disabled = true;  // To prevent multiple clicks.\n",
              "      quickchartButtonEl.classList.add('colab-df-spinner');\n",
              "      try {\n",
              "        const charts = await google.colab.kernel.invokeFunction(\n",
              "            'suggestCharts', [key], {});\n",
              "      } catch (error) {\n",
              "        console.error('Error during call to suggestCharts:', error);\n",
              "      }\n",
              "      quickchartButtonEl.classList.remove('colab-df-spinner');\n",
              "      quickchartButtonEl.classList.add('colab-df-quickchart-complete');\n",
              "    }\n",
              "    (() => {\n",
              "      let quickchartButtonEl =\n",
              "        document.querySelector('#df-f0bea76e-c5f0-4d15-bed6-f7986db380bd button');\n",
              "      quickchartButtonEl.style.display =\n",
              "        google.colab.kernel.accessAllowed ? 'block' : 'none';\n",
              "    })();\n",
              "  </script>\n",
              "</div>\n",
              "    </div>\n",
              "  </div>\n"
            ]
          },
          "metadata": {},
          "execution_count": 66
        }
      ],
      "source": [
        "columns=['user_id','item_id','rating','timestamp']\n",
        "df = pd.read_csv(\"./u.data\",sep=\"\\t\",names=columns)\n",
        "print(df.shape)\n",
        "df.head()"
      ]
    },
    {
      "cell_type": "markdown",
      "id": "eb18e732",
      "metadata": {
        "id": "eb18e732"
      },
      "source": [
        "### Filtering and preprocessing the data\n",
        "First, we will define what an 'edge' means in this context. Just like in a graph, it will connect two nodes. Here, **an edge connects a node $u$ to a node $m$, where $u \\in \\ Users$ and $m \\in Movies$.**\n",
        "\n",
        "To make the edges and eventually construct a graph from our dataset, we have to decide what nodes will be connected. In the graph that we wish to make, a node will indicate that a user and an item are connected, i.e., the user likes that item. In context of MovieLens, we can somewhat safely assume that **if a user rates a movie 3 or above, then he liked that movie.**"
      ]
    },
    {
      "cell_type": "code",
      "execution_count": 67,
      "id": "e81e0e04",
      "metadata": {
        "colab": {
          "base_uri": "https://localhost:8080/",
          "height": 362
        },
        "id": "e81e0e04",
        "outputId": "ed8ded90-827b-4222-9555-879a2f0ba610"
      },
      "outputs": [
        {
          "output_type": "stream",
          "name": "stdout",
          "text": [
            "rating distribution :\n",
            "4    34174\n",
            "3    27145\n",
            "5    21201\n",
            "2    11370\n",
            "1     6110\n",
            "Name: rating, dtype: int64\n",
            "\n",
            "number of 3+ ratings: 82520\n"
          ]
        },
        {
          "output_type": "execute_result",
          "data": {
            "text/plain": [
              "   user_id  item_id  rating  timestamp\n",
              "0      196      242       3  881250949\n",
              "1      186      302       3  891717742\n",
              "5      298      474       4  884182806\n",
              "7      253      465       5  891628467\n",
              "8      305      451       3  886324817"
            ],
            "text/html": [
              "\n",
              "  <div id=\"df-1c568017-c3b8-4184-880f-a77a91854d75\" class=\"colab-df-container\">\n",
              "    <div>\n",
              "<style scoped>\n",
              "    .dataframe tbody tr th:only-of-type {\n",
              "        vertical-align: middle;\n",
              "    }\n",
              "\n",
              "    .dataframe tbody tr th {\n",
              "        vertical-align: top;\n",
              "    }\n",
              "\n",
              "    .dataframe thead th {\n",
              "        text-align: right;\n",
              "    }\n",
              "</style>\n",
              "<table border=\"1\" class=\"dataframe\">\n",
              "  <thead>\n",
              "    <tr style=\"text-align: right;\">\n",
              "      <th></th>\n",
              "      <th>user_id</th>\n",
              "      <th>item_id</th>\n",
              "      <th>rating</th>\n",
              "      <th>timestamp</th>\n",
              "    </tr>\n",
              "  </thead>\n",
              "  <tbody>\n",
              "    <tr>\n",
              "      <th>0</th>\n",
              "      <td>196</td>\n",
              "      <td>242</td>\n",
              "      <td>3</td>\n",
              "      <td>881250949</td>\n",
              "    </tr>\n",
              "    <tr>\n",
              "      <th>1</th>\n",
              "      <td>186</td>\n",
              "      <td>302</td>\n",
              "      <td>3</td>\n",
              "      <td>891717742</td>\n",
              "    </tr>\n",
              "    <tr>\n",
              "      <th>5</th>\n",
              "      <td>298</td>\n",
              "      <td>474</td>\n",
              "      <td>4</td>\n",
              "      <td>884182806</td>\n",
              "    </tr>\n",
              "    <tr>\n",
              "      <th>7</th>\n",
              "      <td>253</td>\n",
              "      <td>465</td>\n",
              "      <td>5</td>\n",
              "      <td>891628467</td>\n",
              "    </tr>\n",
              "    <tr>\n",
              "      <th>8</th>\n",
              "      <td>305</td>\n",
              "      <td>451</td>\n",
              "      <td>3</td>\n",
              "      <td>886324817</td>\n",
              "    </tr>\n",
              "  </tbody>\n",
              "</table>\n",
              "</div>\n",
              "    <div class=\"colab-df-buttons\">\n",
              "\n",
              "  <div class=\"colab-df-container\">\n",
              "    <button class=\"colab-df-convert\" onclick=\"convertToInteractive('df-1c568017-c3b8-4184-880f-a77a91854d75')\"\n",
              "            title=\"Convert this dataframe to an interactive table.\"\n",
              "            style=\"display:none;\">\n",
              "\n",
              "  <svg xmlns=\"http://www.w3.org/2000/svg\" height=\"24px\" viewBox=\"0 -960 960 960\">\n",
              "    <path d=\"M120-120v-720h720v720H120Zm60-500h600v-160H180v160Zm220 220h160v-160H400v160Zm0 220h160v-160H400v160ZM180-400h160v-160H180v160Zm440 0h160v-160H620v160ZM180-180h160v-160H180v160Zm440 0h160v-160H620v160Z\"/>\n",
              "  </svg>\n",
              "    </button>\n",
              "\n",
              "  <style>\n",
              "    .colab-df-container {\n",
              "      display:flex;\n",
              "      gap: 12px;\n",
              "    }\n",
              "\n",
              "    .colab-df-convert {\n",
              "      background-color: #E8F0FE;\n",
              "      border: none;\n",
              "      border-radius: 50%;\n",
              "      cursor: pointer;\n",
              "      display: none;\n",
              "      fill: #1967D2;\n",
              "      height: 32px;\n",
              "      padding: 0 0 0 0;\n",
              "      width: 32px;\n",
              "    }\n",
              "\n",
              "    .colab-df-convert:hover {\n",
              "      background-color: #E2EBFA;\n",
              "      box-shadow: 0px 1px 2px rgba(60, 64, 67, 0.3), 0px 1px 3px 1px rgba(60, 64, 67, 0.15);\n",
              "      fill: #174EA6;\n",
              "    }\n",
              "\n",
              "    .colab-df-buttons div {\n",
              "      margin-bottom: 4px;\n",
              "    }\n",
              "\n",
              "    [theme=dark] .colab-df-convert {\n",
              "      background-color: #3B4455;\n",
              "      fill: #D2E3FC;\n",
              "    }\n",
              "\n",
              "    [theme=dark] .colab-df-convert:hover {\n",
              "      background-color: #434B5C;\n",
              "      box-shadow: 0px 1px 3px 1px rgba(0, 0, 0, 0.15);\n",
              "      filter: drop-shadow(0px 1px 2px rgba(0, 0, 0, 0.3));\n",
              "      fill: #FFFFFF;\n",
              "    }\n",
              "  </style>\n",
              "\n",
              "    <script>\n",
              "      const buttonEl =\n",
              "        document.querySelector('#df-1c568017-c3b8-4184-880f-a77a91854d75 button.colab-df-convert');\n",
              "      buttonEl.style.display =\n",
              "        google.colab.kernel.accessAllowed ? 'block' : 'none';\n",
              "\n",
              "      async function convertToInteractive(key) {\n",
              "        const element = document.querySelector('#df-1c568017-c3b8-4184-880f-a77a91854d75');\n",
              "        const dataTable =\n",
              "          await google.colab.kernel.invokeFunction('convertToInteractive',\n",
              "                                                    [key], {});\n",
              "        if (!dataTable) return;\n",
              "\n",
              "        const docLinkHtml = 'Like what you see? Visit the ' +\n",
              "          '<a target=\"_blank\" href=https://colab.research.google.com/notebooks/data_table.ipynb>data table notebook</a>'\n",
              "          + ' to learn more about interactive tables.';\n",
              "        element.innerHTML = '';\n",
              "        dataTable['output_type'] = 'display_data';\n",
              "        await google.colab.output.renderOutput(dataTable, element);\n",
              "        const docLink = document.createElement('div');\n",
              "        docLink.innerHTML = docLinkHtml;\n",
              "        element.appendChild(docLink);\n",
              "      }\n",
              "    </script>\n",
              "  </div>\n",
              "\n",
              "\n",
              "<div id=\"df-a6682561-586f-4961-bcd5-faa71194fcdf\">\n",
              "  <button class=\"colab-df-quickchart\" onclick=\"quickchart('df-a6682561-586f-4961-bcd5-faa71194fcdf')\"\n",
              "            title=\"Suggest charts.\"\n",
              "            style=\"display:none;\">\n",
              "\n",
              "<svg xmlns=\"http://www.w3.org/2000/svg\" height=\"24px\"viewBox=\"0 0 24 24\"\n",
              "     width=\"24px\">\n",
              "    <g>\n",
              "        <path d=\"M19 3H5c-1.1 0-2 .9-2 2v14c0 1.1.9 2 2 2h14c1.1 0 2-.9 2-2V5c0-1.1-.9-2-2-2zM9 17H7v-7h2v7zm4 0h-2V7h2v10zm4 0h-2v-4h2v4z\"/>\n",
              "    </g>\n",
              "</svg>\n",
              "  </button>\n",
              "\n",
              "<style>\n",
              "  .colab-df-quickchart {\n",
              "      --bg-color: #E8F0FE;\n",
              "      --fill-color: #1967D2;\n",
              "      --hover-bg-color: #E2EBFA;\n",
              "      --hover-fill-color: #174EA6;\n",
              "      --disabled-fill-color: #AAA;\n",
              "      --disabled-bg-color: #DDD;\n",
              "  }\n",
              "\n",
              "  [theme=dark] .colab-df-quickchart {\n",
              "      --bg-color: #3B4455;\n",
              "      --fill-color: #D2E3FC;\n",
              "      --hover-bg-color: #434B5C;\n",
              "      --hover-fill-color: #FFFFFF;\n",
              "      --disabled-bg-color: #3B4455;\n",
              "      --disabled-fill-color: #666;\n",
              "  }\n",
              "\n",
              "  .colab-df-quickchart {\n",
              "    background-color: var(--bg-color);\n",
              "    border: none;\n",
              "    border-radius: 50%;\n",
              "    cursor: pointer;\n",
              "    display: none;\n",
              "    fill: var(--fill-color);\n",
              "    height: 32px;\n",
              "    padding: 0;\n",
              "    width: 32px;\n",
              "  }\n",
              "\n",
              "  .colab-df-quickchart:hover {\n",
              "    background-color: var(--hover-bg-color);\n",
              "    box-shadow: 0 1px 2px rgba(60, 64, 67, 0.3), 0 1px 3px 1px rgba(60, 64, 67, 0.15);\n",
              "    fill: var(--button-hover-fill-color);\n",
              "  }\n",
              "\n",
              "  .colab-df-quickchart-complete:disabled,\n",
              "  .colab-df-quickchart-complete:disabled:hover {\n",
              "    background-color: var(--disabled-bg-color);\n",
              "    fill: var(--disabled-fill-color);\n",
              "    box-shadow: none;\n",
              "  }\n",
              "\n",
              "  .colab-df-spinner {\n",
              "    border: 2px solid var(--fill-color);\n",
              "    border-color: transparent;\n",
              "    border-bottom-color: var(--fill-color);\n",
              "    animation:\n",
              "      spin 1s steps(1) infinite;\n",
              "  }\n",
              "\n",
              "  @keyframes spin {\n",
              "    0% {\n",
              "      border-color: transparent;\n",
              "      border-bottom-color: var(--fill-color);\n",
              "      border-left-color: var(--fill-color);\n",
              "    }\n",
              "    20% {\n",
              "      border-color: transparent;\n",
              "      border-left-color: var(--fill-color);\n",
              "      border-top-color: var(--fill-color);\n",
              "    }\n",
              "    30% {\n",
              "      border-color: transparent;\n",
              "      border-left-color: var(--fill-color);\n",
              "      border-top-color: var(--fill-color);\n",
              "      border-right-color: var(--fill-color);\n",
              "    }\n",
              "    40% {\n",
              "      border-color: transparent;\n",
              "      border-right-color: var(--fill-color);\n",
              "      border-top-color: var(--fill-color);\n",
              "    }\n",
              "    60% {\n",
              "      border-color: transparent;\n",
              "      border-right-color: var(--fill-color);\n",
              "    }\n",
              "    80% {\n",
              "      border-color: transparent;\n",
              "      border-right-color: var(--fill-color);\n",
              "      border-bottom-color: var(--fill-color);\n",
              "    }\n",
              "    90% {\n",
              "      border-color: transparent;\n",
              "      border-bottom-color: var(--fill-color);\n",
              "    }\n",
              "  }\n",
              "</style>\n",
              "\n",
              "  <script>\n",
              "    async function quickchart(key) {\n",
              "      const quickchartButtonEl =\n",
              "        document.querySelector('#' + key + ' button');\n",
              "      quickchartButtonEl.disabled = true;  // To prevent multiple clicks.\n",
              "      quickchartButtonEl.classList.add('colab-df-spinner');\n",
              "      try {\n",
              "        const charts = await google.colab.kernel.invokeFunction(\n",
              "            'suggestCharts', [key], {});\n",
              "      } catch (error) {\n",
              "        console.error('Error during call to suggestCharts:', error);\n",
              "      }\n",
              "      quickchartButtonEl.classList.remove('colab-df-spinner');\n",
              "      quickchartButtonEl.classList.add('colab-df-quickchart-complete');\n",
              "    }\n",
              "    (() => {\n",
              "      let quickchartButtonEl =\n",
              "        document.querySelector('#df-a6682561-586f-4961-bcd5-faa71194fcdf button');\n",
              "      quickchartButtonEl.style.display =\n",
              "        google.colab.kernel.accessAllowed ? 'block' : 'none';\n",
              "    })();\n",
              "  </script>\n",
              "</div>\n",
              "    </div>\n",
              "  </div>\n"
            ]
          },
          "metadata": {},
          "execution_count": 67
        }
      ],
      "source": [
        "# Rating distribution\n",
        "print(f\"rating distribution :\\n{df['rating'].value_counts()}\")\n",
        "\n",
        "# Extract 3+ ratings\n",
        "df = df[df['rating'] >= 3]\n",
        "print(f\"\\nnumber of 3+ ratings: {df.shape[0]}\")\n",
        "df.head()"
      ]
    },
    {
      "cell_type": "code",
      "execution_count": 68,
      "id": "2i2jBPvjTZ7d",
      "metadata": {
        "colab": {
          "base_uri": "https://localhost:8080/"
        },
        "id": "2i2jBPvjTZ7d",
        "outputId": "09afcec3-a618-4da0-ccd8-826f7799b0c3"
      },
      "outputs": [
        {
          "output_type": "stream",
          "name": "stdout",
          "text": [
            "[242 302 474 ... 476 204 203]\n"
          ]
        }
      ],
      "source": [
        "user_pos_items = df['item_id'].values\n",
        "print(user_pos_items)"
      ]
    },
    {
      "cell_type": "code",
      "execution_count": 69,
      "id": "f78bfa40",
      "metadata": {
        "colab": {
          "base_uri": "https://localhost:8080/"
        },
        "id": "f78bfa40",
        "outputId": "71821aca-1c45-4b0b-d83f-ae8c84c61cdc"
      },
      "outputs": [
        {
          "output_type": "stream",
          "name": "stdout",
          "text": [
            "train size : 66016\n",
            "test size : 16504\n"
          ]
        }
      ],
      "source": [
        "# 80-20 train-test split\n",
        "train, test = train_test_split(df.values, test_size=0.2, random_state=16)\n",
        "train_df = pd.DataFrame(train, columns=df.columns)\n",
        "test_df = pd.DataFrame(test, columns=df.columns)\n",
        "\n",
        "print(f\"train size : {len(train_df)}\")\n",
        "print(f\"test size : {len (test_df)}\")"
      ]
    },
    {
      "cell_type": "code",
      "execution_count": 70,
      "id": "446502c2",
      "metadata": {
        "id": "446502c2"
      },
      "outputs": [],
      "source": [
        "userLabelEnc = preprocessing.LabelEncoder()\n",
        "itemLabelEnc = preprocessing.LabelEncoder()\n",
        "\n",
        "train_user_ids = train_df['user_id'].unique()\n",
        "train_item_ids = train_df['item_id'].unique()\n",
        "\n",
        "train_df['user_id_idx'] = userLabelEnc.fit_transform(train_df['user_id'].values)\n",
        "train_df['item_id_idx'] = itemLabelEnc.fit_transform(train_df['item_id'].values)\n",
        "\n",
        "test_df = test_df[(test_df['user_id'].isin(train_user_ids)) & (test_df['item_id'].isin(train_item_ids))]\n",
        "\n",
        "test_df['user_id_idx'] = userLabelEnc.transform(test_df['user_id'].values)\n",
        "test_df['item_id_idx'] = itemLabelEnc.transform(test_df['item_id'].values)"
      ]
    },
    {
      "cell_type": "code",
      "execution_count": 71,
      "id": "a8e07085",
      "metadata": {
        "colab": {
          "base_uri": "https://localhost:8080/"
        },
        "id": "a8e07085",
        "outputId": "850db782-9707-42f8-8bbd-8faa5721bc0c"
      },
      "outputs": [
        {
          "output_type": "stream",
          "name": "stdout",
          "text": [
            "users : 943\n",
            "movies : 1546\n"
          ]
        }
      ],
      "source": [
        "# Counting unique users and movies\n",
        "n_users = train_df['user_id_idx'].nunique()\n",
        "n_items = train_df['item_id_idx'].nunique()\n",
        "print(f\"users : {n_users}\")\n",
        "print(f\"movies : {n_items}\")"
      ]
    },
    {
      "cell_type": "code",
      "execution_count": 72,
      "id": "4cc56dbe",
      "metadata": {
        "id": "4cc56dbe"
      },
      "outputs": [],
      "source": [
        "def sample_negative_items(pos_item_ids, n_items):\n",
        "    while True:\n",
        "        neg_random_id = random.randint(0, n_items-1)\n",
        "        if neg_random_id not in pos_item_ids:\n",
        "            return neg_random_id"
      ]
    },
    {
      "cell_type": "code",
      "execution_count": 73,
      "id": "f2b53689",
      "metadata": {
        "id": "f2b53689"
      },
      "outputs": [],
      "source": [
        "def sample_minibatch(data, batch_size, n_users, n_items):\n",
        "    grouped_items = data.groupby('user_id_idx')['item_id_idx']\n",
        "    edge_nodes_df = grouped_items.apply(list).reset_index()\n",
        "    user_ids = [i for i in range(n_users)]\n",
        "\n",
        "    if n_users < batch_size:\n",
        "        users = [random.choice(user_ids) for _ in range(batch_size)]\n",
        "    else:\n",
        "        users = random.sample(user_ids, batch_size)\n",
        "\n",
        "    user_ids.sort()\n",
        "    users_df = pd.DataFrame(users, columns=['users'])\n",
        "\n",
        "    edge_nodes_df = pd.merge(edge_nodes_df, users_df,\n",
        "                             how='right', left_on='user_id_idx',\n",
        "                             right_on='users')\n",
        "    pos_items = edge_nodes_df['item_id_idx'].apply(lambda x : random.choice(x)).values\n",
        "    neg_items = edge_nodes_df['item_id_idx'].apply(lambda x : sample_negative_items(x, n_items)).values\n",
        "\n",
        "    (ret_users, ret_pos_items, ret_neg_items) = (torch.LongTensor(list(users)).to(device),\n",
        "                                                torch.LongTensor(list(pos_items)).to(device)+n_users,\n",
        "                                                torch.LongTensor(list(neg_items)).to(device)+n_users)\n",
        "\n",
        "    return ret_users, ret_pos_items, ret_neg_items"
      ]
    },
    {
      "cell_type": "code",
      "execution_count": 74,
      "id": "daf37120",
      "metadata": {
        "colab": {
          "base_uri": "https://localhost:8080/"
        },
        "id": "daf37120",
        "outputId": "a3a08a51-dab9-407d-cac3-f7f1a034771e"
      },
      "outputs": [
        {
          "output_type": "stream",
          "name": "stdout",
          "text": [
            "edges for training:\n",
            "\n",
            "tensor([[ 769,  168,  326,  ..., 1683, 2006,  989],\n",
            "        [1192, 1272, 1085,  ...,  601,  621,   59]], device='cuda:0')\n"
          ]
        }
      ],
      "source": [
        "users_train = torch.LongTensor(train_df.user_id_idx)\n",
        "items_train = torch.LongTensor(train_df.item_id_idx) + n_users\n",
        "\n",
        "train_edge_index = torch.stack((torch.cat([users_train, items_train]),\n",
        "                                torch.cat([items_train, users_train]))).to(device)\n",
        "\n",
        "print(f\"edges for training:\\n\\n{train_edge_index}\")"
      ]
    },
    {
      "cell_type": "code",
      "execution_count": 75,
      "id": "54b732b0",
      "metadata": {
        "colab": {
          "base_uri": "https://localhost:8080/"
        },
        "id": "54b732b0",
        "outputId": "821c802c-8193-407c-e8e9-ee06f07586d4"
      },
      "outputs": [
        {
          "output_type": "stream",
          "name": "stdout",
          "text": [
            "tensor([989,  59], device='cuda:0') tensor([ 769, 1192], device='cuda:0')\n",
            "tensor([ 59, 989], device='cuda:0') tensor([1192,  769], device='cuda:0')\n"
          ]
        }
      ],
      "source": [
        "print(train_edge_index[:,-1], train_edge_index[:, 0])\n",
        "print(train_edge_index[:, len(train)-1], train_edge_index[:, len(train)])"
      ]
    },
    {
      "cell_type": "markdown",
      "id": "UDeiPP4oKSDB",
      "metadata": {
        "id": "UDeiPP4oKSDB"
      },
      "source": [
        "## LightGCN Graph Convolution\n",
        "LightGCN has the following propagation rules for user and item embeddings between each layer (class `LightGCNConv()` in this implementation).\n",
        "\n",
        "\\begin{equation}\n",
        "e_u^{(k+1)} = \\sum_{i \\in N_u} \\frac{1}{\\sqrt{|N_u|}\\sqrt{|N_i|}} e_i^{(k)} \\quad e_i^{(k+1)} = \\sum_{u \\in N_i} \\frac{1}{\\sqrt{|N_i|}\\sqrt{|N_u|}} e_u^{(k)}\n",
        "\\end{equation}\n",
        "\n",
        "$N_u$: the set of all neighbors of user $u$ (items liked by $u$)\n",
        "\n",
        "$N_i$: the set of all neighbors of item $i$ (users who liked $i$)\n",
        "\n",
        "$e_u^{(k)}$ : k-th layer user embedding\n",
        "\n",
        "$e_i^{(k)}$ : k-th layer item embedding\n",
        "\n",
        "**Note**: The only trainable parameters of LightGCN are the 0-th layer embeddings $e_u^{(0)}$ and $e_i^{(0)}$ for each user and item.\n",
        "\n"
      ]
    },
    {
      "cell_type": "code",
      "execution_count": 76,
      "id": "0b347765",
      "metadata": {
        "id": "0b347765"
      },
      "outputs": [],
      "source": [
        "class LightGCNConv(MessagePassing):\n",
        "    def __init__(self, **kwargs):\n",
        "        super().__init__(aggr='add')\n",
        "\n",
        "    def forward(self, x, edge_index):\n",
        "        from_, to_ = edge_index\n",
        "        deg = degree(to_, x.size(0), dtype=x.dtype)\n",
        "        deg_inv_sqrt = deg.pow(-0.5)\n",
        "        deg_inv_sqrt[deg_inv_sqrt==float('inf')] = 0\n",
        "        norm = deg_inv_sqrt[from_] * deg_inv_sqrt[to_]\n",
        "        return self.propagate(edge_index, x=x, norm=norm)\n",
        "\n",
        "    def message(self, x_j, norm):\n",
        "        return norm.view(-1, 1) * x_j"
      ]
    },
    {
      "cell_type": "code",
      "execution_count": 77,
      "id": "3d5051ed",
      "metadata": {
        "id": "3d5051ed"
      },
      "outputs": [],
      "source": [
        "class LightGCN(nn.Module):\n",
        "    def __init__(self, latent_dim, n_layers, n_users, n_items):\n",
        "        super().__init__()\n",
        "\n",
        "        self.embedding = nn.Embedding(n_users+n_items, latent_dim)\n",
        "        self.layers = nn.ModuleList(LightGCNConv() for _ in range(n_layers))\n",
        "\n",
        "        # normal_ gives best results according to LightGCN paper\n",
        "        nn.init.normal_(self.embedding.weight, std=0.1)\n",
        "\n",
        "    def forward(self, edge_index):\n",
        "        emb0 = self.embedding.weight\n",
        "        embs = [emb0]\n",
        "        emb = emb0\n",
        "        for layer in self.layers:\n",
        "            emb = layer(x=emb, edge_index=edge_index)\n",
        "            embs.append(emb)\n",
        "        return emb0, torch.mean(torch.stack(embs, dim=0), dim=0)\n",
        "\n",
        "    def encode_minibatch(self, users, pos_items, neg_items, edge_index):\n",
        "        emb0, output = self(edge_index)\n",
        "        return (output[users], output[pos_items],\n",
        "                output[neg_items], emb0[users],\n",
        "                emb0[pos_items], emb0[neg_items])"
      ]
    },
    {
      "cell_type": "markdown",
      "id": "-ueroh_3MHJS",
      "metadata": {
        "id": "-ueroh_3MHJS"
      },
      "source": [
        "\n",
        "\n",
        "## Loss Function\n",
        "\n",
        "We wish to optimize on recall@k. However, recall is not a differentiable quantity. But, there is a loss function that is very close to recall in its behaviour and it is differentiable. It's called the Bayesian Personalized Ranking (BPR) loss. It can be represented by the following equation:\n",
        "\n",
        "\\begin{equation}\n",
        "L_{BPR} = -\\sum_{u = 1}^M \\sum_{i \\in N_u} \\sum_{j \\notin N_u} \\ln{\\sigma(\\hat{y}_{ui} - \\hat{y}_{uj})} + \\lambda ||E^{(0)}||^2\n",
        "\\end{equation}\n",
        "\n",
        "$\\hat{y}_{u}$: predicted score of a positive sample\n",
        "\n",
        "$\\hat{y}_{uj}$: predicted score of a negative sample\n",
        "\n",
        "$\\lambda$: hyperparameter which controls the L2 regularization strength"
      ]
    },
    {
      "cell_type": "code",
      "execution_count": 78,
      "id": "539663cc",
      "metadata": {
        "id": "539663cc"
      },
      "outputs": [],
      "source": [
        "def compute_bpr_loss(users, users_emb, pos_emb, neg_emb, user_emb0,  pos_emb0, neg_emb0):\n",
        "    reg_loss = (1/2) * (user_emb0.norm().pow(2) + \\\n",
        "                        pos_emb0.norm().pow(2) + \\\n",
        "                        neg_emb0.norm().pow(2)) / \\\n",
        "                        float(len(users))\n",
        "\n",
        "    # compute BPR loss from user, positive item, and negative item embeddings\n",
        "    pos_scores = torch.mul(users_emb, pos_emb).sum(dim=1)\n",
        "    neg_scores = torch.mul(users_emb, neg_emb).sum(dim=1)\n",
        "\n",
        "    bpr_loss = torch.mean(F.softplus(neg_scores - pos_scores))\n",
        "\n",
        "    return bpr_loss, reg_loss"
      ]
    },
    {
      "cell_type": "markdown",
      "id": "hTegozw0NpyV",
      "metadata": {
        "id": "hTegozw0NpyV"
      },
      "source": [
        "## Evaluation Metrics\n",
        "\n",
        "We evaluate our model using the following metrics:\n",
        "\n",
        "\\begin{equation}\n",
        "\\text{Recall} = \\frac{TP}{TP + FP}\n",
        "\\end{equation}\n",
        "\n",
        "\\begin{equation}\n",
        "\\text{Precision} = \\frac{TP}{TP + FN}\n",
        "\\end{equation}"
      ]
    },
    {
      "cell_type": "code",
      "execution_count": 79,
      "id": "31088d87",
      "metadata": {
        "id": "31088d87"
      },
      "outputs": [],
      "source": [
        "def get_metrics(user_Embed_wts, item_Embed_wts, n_users, n_items, train_data, test_data, K):\n",
        "    test_user_ids = torch.LongTensor(test_data['user_id_idx'].unique())\n",
        "    # compute the score of all user-item pairs\n",
        "    relevance_score = torch.matmul(user_Embed_wts, torch.transpose(item_Embed_wts,0, 1))\n",
        "\n",
        "    # create dense tensor of all user-item edges (interactions)\n",
        "    i = torch.stack((\n",
        "    torch.LongTensor(train_df['user_id_idx'].values),\n",
        "    torch.LongTensor(train_df['item_id_idx'].values)\n",
        "    ))\n",
        "    v = torch.ones((len(train_df)), dtype=torch.float64)\n",
        "    interactions_t = torch.sparse.FloatTensor(i, v, (n_users, n_items))\\\n",
        "      .to_dense().to(device)\n",
        "\n",
        "    # mask out training user-item interactions from metric computation\n",
        "    relevance_score = torch.mul(relevance_score, (1 - interactions_t))\n",
        "\n",
        "    # compute top scoring items for each user\n",
        "    topk_relevance_indices = torch.topk(relevance_score, K).indices\n",
        "    topk_relevance_indices_df = pd.DataFrame(topk_relevance_indices.cpu().numpy(),columns =['top_indx_'+str(x+1) for x in range(K)])\n",
        "    topk_relevance_indices_df['user_ID'] = topk_relevance_indices_df.index\n",
        "    topk_relevance_indices_df['top_rlvnt_itm'] = topk_relevance_indices_df[['top_indx_'+str(x+1) for x in range(K)]].values.tolist()\n",
        "    topk_relevance_indices_df = topk_relevance_indices_df[['user_ID','top_rlvnt_itm']]\n",
        "\n",
        "    # measure overlap between recommended (top-scoring) and held-out user-item interactions\n",
        "    test_interacted_items = test_data.groupby('user_id_idx')['item_id_idx'].apply(list).reset_index()\n",
        "    metrics_df = pd.merge(test_interacted_items,topk_relevance_indices_df, how= 'left', left_on = 'user_id_idx',right_on = ['user_ID'])\n",
        "    metrics_df['intrsctn_itm'] = [list(set(a).intersection(b)) for a, b in zip(metrics_df.item_id_idx, metrics_df.top_rlvnt_itm)]\n",
        "\n",
        "    metrics_df['recall'] = metrics_df.apply(lambda x : len(x['intrsctn_itm'])/len(x['item_id_idx']), axis = 1)\n",
        "    metrics_df['precision'] = metrics_df.apply(lambda x : len(x['intrsctn_itm'])/K, axis = 1)\n",
        "\n",
        "    return metrics_df['recall'].mean(), metrics_df['precision'].mean()"
      ]
    },
    {
      "cell_type": "markdown",
      "id": "aDuH6eBLN_zQ",
      "metadata": {
        "id": "aDuH6eBLN_zQ"
      },
      "source": [
        "# Training and Evaluation"
      ]
    },
    {
      "cell_type": "code",
      "execution_count": 80,
      "id": "f94bf074",
      "metadata": {
        "id": "f94bf074"
      },
      "outputs": [],
      "source": [
        "latent_dim = 64\n",
        "n_layers = 3\n",
        "\n",
        "EPOCHS = 50\n",
        "BATCH_SIZE = 1024\n",
        "DECAY = 0.0001\n",
        "LR = 0.005\n",
        "K = 15"
      ]
    },
    {
      "cell_type": "code",
      "execution_count": 81,
      "id": "1ea76795",
      "metadata": {
        "id": "1ea76795"
      },
      "outputs": [],
      "source": [
        "def train_and_eval(model, optimizer, train_df):\n",
        "    loss_list_epoch = []\n",
        "    bpr_loss_list_epoch = []\n",
        "    reg_loss_list_epoch = []\n",
        "    recall_list = []\n",
        "    precision_list = []\n",
        "\n",
        "    for epoch in tqdm(range(EPOCHS+1)):\n",
        "        n_batch = int(len(train)/BATCH_SIZE)\n",
        "\n",
        "        final_loss_list = []\n",
        "        bpr_loss_list = []\n",
        "        reg_loss_list = []\n",
        "\n",
        "        model.train()\n",
        "        for batch_idx in range(n_batch):\n",
        "            optimizer.zero_grad()\n",
        "\n",
        "            users, pos_items, neg_items = sample_minibatch(train_df, BATCH_SIZE, n_users, n_items)\n",
        "            users_emb, pos_emb, neg_emb, userEmb0,  posEmb0, negEmb0 = model.encode_minibatch(users, pos_items, neg_items, train_edge_index)\n",
        "\n",
        "            bpr_loss, reg_loss = compute_bpr_loss(users, users_emb, pos_emb, neg_emb, userEmb0,  posEmb0, negEmb0)\n",
        "            reg_loss = DECAY * reg_loss\n",
        "            final_loss = bpr_loss + reg_loss\n",
        "\n",
        "            final_loss.backward()\n",
        "            optimizer.step()\n",
        "\n",
        "            final_loss_list.append(final_loss.item())\n",
        "            bpr_loss_list.append(bpr_loss.item())\n",
        "            reg_loss_list.append(reg_loss.item())\n",
        "\n",
        "        model.eval()\n",
        "        with torch.no_grad():\n",
        "            _, out = model(train_edge_index)\n",
        "            final_user_Embed, final_item_Embed = torch.split(out, (n_users, n_items))\n",
        "            test_topK_recall, test_topK_precision = get_metrics(final_user_Embed, final_item_Embed, n_users, n_items, train_df, test_df, K)\n",
        "\n",
        "        train_loss = round(np.mean(final_loss_list),4)\n",
        "        test_topK_recall_curr = round(test_topK_recall,4)\n",
        "        test_topK_precision_curr = round(test_topK_precision,4)\n",
        "        print(f\"epoch : [{epoch}/{EPOCHS}]\\ttrain loss : {train_loss}\\trecall@{K} : {test_topK_recall_curr}\\tprecision@{K} : {test_topK_precision_curr}\")\n",
        "        loss_list_epoch.append(train_loss)\n",
        "        bpr_loss_list_epoch.append(round(np.mean(bpr_loss_list),4))\n",
        "        reg_loss_list_epoch.append(round(np.mean(reg_loss_list),4))\n",
        "\n",
        "        recall_list.append(test_topK_recall_curr)\n",
        "        precision_list.append(test_topK_precision_curr)\n",
        "\n",
        "    return (loss_list_epoch, bpr_loss_list_epoch, reg_loss_list_epoch, recall_list, precision_list)"
      ]
    },
    {
      "cell_type": "code",
      "execution_count": 82,
      "id": "0121197d",
      "metadata": {
        "colab": {
          "base_uri": "https://localhost:8080/"
        },
        "id": "0121197d",
        "outputId": "9961a149-db81-499d-ae6e-fdcc1adaf607"
      },
      "outputs": [
        {
          "output_type": "stream",
          "name": "stdout",
          "text": [
            "embedding size : [torch.Size([2489, 64])]\n"
          ]
        }
      ],
      "source": [
        "lightgcn = LightGCN(latent_dim=latent_dim, n_layers=n_layers, n_users=n_users, n_items=n_items)\n",
        "lightgcn.to(device)\n",
        "\n",
        "optimizer = torch.optim.Adam(lightgcn.parameters(), lr=LR)\n",
        "print(f\"embedding size : {[x.shape for x in list(lightgcn.parameters())]}\")"
      ]
    },
    {
      "cell_type": "code",
      "execution_count": 83,
      "id": "a950d4db",
      "metadata": {
        "colab": {
          "base_uri": "https://localhost:8080/",
          "height": 934,
          "referenced_widgets": [
            "e39ace9ab2b54091b4e8b0c5e82526ae",
            "b2ba75f63d384b038a405dcde071a376",
            "fa1e744962f2405582e0ba41fc8b56df",
            "a1bf54e89ccf4e59a6a23a120ea8ec31",
            "f17691203fed42c18b33827884bf931d",
            "bcd23262b44f4989a7bfbbee4f874329",
            "633842d5ca674fc981d9bbe0eef66216",
            "d5ba46c8e0124d86929166ac79f6fab2",
            "6f72b4b6af0f47649cd73fc107257103",
            "515b34d7218b409e9c68b31d987cd8c7",
            "51296905457c4fafa6130a54abf25356"
          ]
        },
        "id": "a950d4db",
        "outputId": "ff12b57c-e390-4e5e-94b6-52ff3cebc796"
      },
      "outputs": [
        {
          "output_type": "display_data",
          "data": {
            "text/plain": [
              "  0%|          | 0/51 [00:00<?, ?it/s]"
            ],
            "application/vnd.jupyter.widget-view+json": {
              "version_major": 2,
              "version_minor": 0,
              "model_id": "e39ace9ab2b54091b4e8b0c5e82526ae"
            }
          },
          "metadata": {}
        },
        {
          "output_type": "stream",
          "name": "stdout",
          "text": [
            "epoch : [0/50]\ttrain loss : 0.5133\trecall@15 : 0.1727\tprecision@15 : 0.1407\n",
            "epoch : [1/50]\ttrain loss : 0.2926\trecall@15 : 0.205\tprecision@15 : 0.1678\n",
            "epoch : [2/50]\ttrain loss : 0.257\trecall@15 : 0.215\tprecision@15 : 0.1817\n",
            "epoch : [3/50]\ttrain loss : 0.2378\trecall@15 : 0.221\tprecision@15 : 0.1916\n",
            "epoch : [4/50]\ttrain loss : 0.2246\trecall@15 : 0.2255\tprecision@15 : 0.1957\n",
            "epoch : [5/50]\ttrain loss : 0.2145\trecall@15 : 0.2317\tprecision@15 : 0.2041\n",
            "epoch : [6/50]\ttrain loss : 0.2001\trecall@15 : 0.2403\tprecision@15 : 0.211\n",
            "epoch : [7/50]\ttrain loss : 0.1936\trecall@15 : 0.2526\tprecision@15 : 0.2205\n",
            "epoch : [8/50]\ttrain loss : 0.1787\trecall@15 : 0.2552\tprecision@15 : 0.2244\n",
            "epoch : [9/50]\ttrain loss : 0.1739\trecall@15 : 0.2581\tprecision@15 : 0.2254\n",
            "epoch : [10/50]\ttrain loss : 0.1712\trecall@15 : 0.2609\tprecision@15 : 0.2261\n",
            "epoch : [11/50]\ttrain loss : 0.1647\trecall@15 : 0.2645\tprecision@15 : 0.229\n",
            "epoch : [12/50]\ttrain loss : 0.1619\trecall@15 : 0.2663\tprecision@15 : 0.2306\n",
            "epoch : [13/50]\ttrain loss : 0.1579\trecall@15 : 0.2686\tprecision@15 : 0.2314\n",
            "epoch : [14/50]\ttrain loss : 0.1551\trecall@15 : 0.2696\tprecision@15 : 0.2327\n",
            "epoch : [15/50]\ttrain loss : 0.151\trecall@15 : 0.2725\tprecision@15 : 0.2351\n",
            "epoch : [16/50]\ttrain loss : 0.1473\trecall@15 : 0.2739\tprecision@15 : 0.2369\n",
            "epoch : [17/50]\ttrain loss : 0.1455\trecall@15 : 0.2747\tprecision@15 : 0.2383\n",
            "epoch : [18/50]\ttrain loss : 0.1429\trecall@15 : 0.2773\tprecision@15 : 0.2393\n",
            "epoch : [19/50]\ttrain loss : 0.1389\trecall@15 : 0.2767\tprecision@15 : 0.2399\n",
            "epoch : [20/50]\ttrain loss : 0.1361\trecall@15 : 0.2773\tprecision@15 : 0.2418\n",
            "epoch : [21/50]\ttrain loss : 0.1325\trecall@15 : 0.2773\tprecision@15 : 0.2421\n",
            "epoch : [22/50]\ttrain loss : 0.133\trecall@15 : 0.2794\tprecision@15 : 0.2446\n",
            "epoch : [23/50]\ttrain loss : 0.1297\trecall@15 : 0.2787\tprecision@15 : 0.2452\n",
            "epoch : [24/50]\ttrain loss : 0.127\trecall@15 : 0.2805\tprecision@15 : 0.2457\n",
            "epoch : [25/50]\ttrain loss : 0.125\trecall@15 : 0.284\tprecision@15 : 0.2485\n",
            "epoch : [26/50]\ttrain loss : 0.1213\trecall@15 : 0.2858\tprecision@15 : 0.2498\n",
            "epoch : [27/50]\ttrain loss : 0.1204\trecall@15 : 0.2873\tprecision@15 : 0.2515\n",
            "epoch : [28/50]\ttrain loss : 0.1188\trecall@15 : 0.2886\tprecision@15 : 0.2525\n",
            "epoch : [29/50]\ttrain loss : 0.1143\trecall@15 : 0.2885\tprecision@15 : 0.2536\n",
            "epoch : [30/50]\ttrain loss : 0.1155\trecall@15 : 0.2904\tprecision@15 : 0.255\n",
            "epoch : [31/50]\ttrain loss : 0.114\trecall@15 : 0.2932\tprecision@15 : 0.2562\n",
            "epoch : [32/50]\ttrain loss : 0.1113\trecall@15 : 0.2942\tprecision@15 : 0.2571\n",
            "epoch : [33/50]\ttrain loss : 0.1074\trecall@15 : 0.2928\tprecision@15 : 0.2571\n",
            "epoch : [34/50]\ttrain loss : 0.1083\trecall@15 : 0.2906\tprecision@15 : 0.2568\n",
            "epoch : [35/50]\ttrain loss : 0.1049\trecall@15 : 0.2943\tprecision@15 : 0.2591\n",
            "epoch : [36/50]\ttrain loss : 0.1032\trecall@15 : 0.2928\tprecision@15 : 0.258\n",
            "epoch : [37/50]\ttrain loss : 0.1061\trecall@15 : 0.2923\tprecision@15 : 0.2584\n",
            "epoch : [38/50]\ttrain loss : 0.1007\trecall@15 : 0.2933\tprecision@15 : 0.2599\n",
            "epoch : [39/50]\ttrain loss : 0.1005\trecall@15 : 0.2927\tprecision@15 : 0.259\n",
            "epoch : [40/50]\ttrain loss : 0.0966\trecall@15 : 0.2946\tprecision@15 : 0.2587\n",
            "epoch : [41/50]\ttrain loss : 0.0993\trecall@15 : 0.2918\tprecision@15 : 0.2593\n",
            "epoch : [42/50]\ttrain loss : 0.0938\trecall@15 : 0.2957\tprecision@15 : 0.2618\n",
            "epoch : [43/50]\ttrain loss : 0.094\trecall@15 : 0.2957\tprecision@15 : 0.2628\n",
            "epoch : [44/50]\ttrain loss : 0.0918\trecall@15 : 0.2967\tprecision@15 : 0.2622\n",
            "epoch : [45/50]\ttrain loss : 0.0922\trecall@15 : 0.2984\tprecision@15 : 0.2631\n",
            "epoch : [46/50]\ttrain loss : 0.088\trecall@15 : 0.2989\tprecision@15 : 0.2625\n",
            "epoch : [47/50]\ttrain loss : 0.0887\trecall@15 : 0.2982\tprecision@15 : 0.2624\n",
            "epoch : [48/50]\ttrain loss : 0.0892\trecall@15 : 0.3014\tprecision@15 : 0.2651\n",
            "epoch : [49/50]\ttrain loss : 0.0862\trecall@15 : 0.3025\tprecision@15 : 0.2667\n",
            "epoch : [50/50]\ttrain loss : 0.0846\trecall@15 : 0.3012\tprecision@15 : 0.2671\n"
          ]
        }
      ],
      "source": [
        "light_loss, light_bpr, light_reg, light_recall, light_precision = train_and_eval(lightgcn, optimizer, train_df)"
      ]
    },
    {
      "cell_type": "code",
      "execution_count": 84,
      "id": "7b13529d",
      "metadata": {
        "id": "7b13529d"
      },
      "outputs": [],
      "source": [
        "epoch_list = [(i+1) for i in range(EPOCHS+1)]"
      ]
    },
    {
      "cell_type": "code",
      "execution_count": 85,
      "id": "8170e158",
      "metadata": {
        "colab": {
          "base_uri": "https://localhost:8080/",
          "height": 466
        },
        "id": "8170e158",
        "outputId": "113ee4a4-2c35-4262-92e3-258b96fbefcb"
      },
      "outputs": [
        {
          "output_type": "execute_result",
          "data": {
            "text/plain": [
              "<matplotlib.legend.Legend at 0x7dce0ade31f0>"
            ]
          },
          "metadata": {},
          "execution_count": 85
        },
        {
          "output_type": "display_data",
          "data": {
            "text/plain": [
              "<Figure size 640x480 with 1 Axes>"
            ],
            "image/png": "[encoded data removed]"
          },
          "metadata": {}
        }
      ],
      "source": [
        "plt.plot(epoch_list, light_loss, label='Total Training Loss')\n",
        "plt.plot(epoch_list, light_bpr, label='BPR Training Loss')\n",
        "plt.plot(epoch_list, light_reg, label='Reg Training Loss')\n",
        "\n",
        "plt.xlabel('Epoch')\n",
        "plt.ylabel('Loss')\n",
        "plt.legend()"
      ]
    },
    {
      "cell_type": "code",
      "execution_count": 86,
      "id": "0206f486",
      "metadata": {
        "colab": {
          "base_uri": "https://localhost:8080/",
          "height": 466
        },
        "id": "0206f486",
        "outputId": "400fe876-7cc9-41d0-a0ae-6ab50c8d77bd"
      },
      "outputs": [
        {
          "output_type": "execute_result",
          "data": {
            "text/plain": [
              "<matplotlib.legend.Legend at 0x7dce099279d0>"
            ]
          },
          "metadata": {},
          "execution_count": 86
        },
        {
          "output_type": "display_data",
          "data": {
            "text/plain": [
              "<Figure size 640x480 with 1 Axes>"
            ],
            "image/png": "[encoded data removed]"
          },
          "metadata": {}
        }
      ],
      "source": [
        "plt.plot(epoch_list, light_recall, label='Recall')\n",
        "plt.plot(epoch_list, light_precision, label='Precision')\n",
        "plt.xlabel('Epoch')\n",
        "plt.ylabel('Metrics')\n",
        "plt.legend()"
      ]
    },
    {
      "cell_type": "markdown",
      "id": "3962cf10",
      "metadata": {
        "id": "3962cf10"
      },
      "source": [
        "## Making Recommendations\n",
        "For making recommendations, we will consider movies that are unrated by the user."
      ]
    },
    {
      "cell_type": "code",
      "execution_count": 87,
      "id": "d63f7ba8",
      "metadata": {
        "id": "d63f7ba8"
      },
      "outputs": [],
      "source": [
        "# movies rated highly (3+) by the user\n",
        "user_pos_items = [[] for _ in range(n_users)]\n",
        "\n",
        "# all movies rated by the user\n",
        "user_rated_items = [[] for _ in range(n_users)]\n",
        "\n",
        "columns=['user_id','item_id','rating','timestamp']\n",
        "df = pd.read_csv(\"./u.data\", sep=\"\\t\", names=columns)\n",
        "\n",
        "for _, row in df.iterrows():\n",
        "    (user, movie, rating) = row[0], row[1], row[2]\n",
        "    if rating >= 3:\n",
        "        user_pos_items[user-1].append(movie-1)\n",
        "    user_rated_items[user-1].append(movie-1)"
      ]
    },
    {
      "cell_type": "code",
      "execution_count": 88,
      "id": "e476a13f",
      "metadata": {
        "colab": {
          "base_uri": "https://localhost:8080/"
        },
        "id": "e476a13f",
        "outputId": "c913f30e-a084-419c-c158-4d21fdfa5225"
      },
      "outputs": [
        {
          "output_type": "stream",
          "name": "stdout",
          "text": [
            "Toy Story (1995)\n"
          ]
        }
      ],
      "source": [
        "# create a mapping from movie id to title\n",
        "\n",
        "columns=['movie_id', 'title']\n",
        "df = pd.read_csv(\"./u.item\", sep='|', usecols=[0,1], encoding='latin', names=columns)\n",
        "movie_id_title = pd.Series(df.title.values, index=df.movie_id).to_dict()\n",
        "print(movie_id_title[1])"
      ]
    },
    {
      "cell_type": "code",
      "execution_count": 89,
      "id": "c0c78213",
      "metadata": {
        "colab": {
          "base_uri": "https://localhost:8080/"
        },
        "id": "c0c78213",
        "outputId": "c3c460fe-f003-4d3e-bd86-0737bb71475f"
      },
      "outputs": [
        {
          "output_type": "execute_result",
          "data": {
            "text/plain": [
              "LightGCN(\n",
              "  (embedding): Embedding(2489, 64)\n",
              "  (layers): ModuleList(\n",
              "    (0-2): 3 x LightGCNConv()\n",
              "  )\n",
              ")"
            ]
          },
          "metadata": {},
          "execution_count": 89
        }
      ],
      "source": [
        "# make recommendations in evaluation mode\n",
        "lightgcn.eval()"
      ]
    },
    {
      "cell_type": "code",
      "execution_count": 90,
      "id": "2d6e14c1",
      "metadata": {
        "id": "2d6e14c1"
      },
      "outputs": [],
      "source": [
        "def recommend(user, n_recs):\n",
        "    with torch.no_grad():\n",
        "        emb_user = lightgcn.embedding.weight[user]\n",
        "        relevance_scores = lightgcn.embedding.weight[n_users:] @ emb_user\n",
        "        _, indices = torch.topk(relevance_scores, k=len(user_pos_items[user])+n_recs)\n",
        "\n",
        "        # let's see the movies liked most by the user\n",
        "        movie_ids = [index+1 for index in range(n_items) if index in user_pos_items[user]][:n_recs]\n",
        "        titles = [movie_id_title[index] for index in movie_ids]\n",
        "\n",
        "        print(f\"some movies that the user rated highly:\\n\")\n",
        "        for movie in titles:\n",
        "            print(movie)\n",
        "\n",
        "        # now let's make recommendations from unwatched movies\n",
        "        unwatched_movie_ids = [index.cpu().item()+1 for index in indices if index not in user_rated_items[user]][:n_recs]\n",
        "        unwatched_titles = [movie_id_title[index] for index in unwatched_movie_ids]\n",
        "\n",
        "        print(f\"\\n\\ntop {n_recs} recommended movies for the user:\\n\")\n",
        "        for movie in unwatched_titles:\n",
        "            print(movie)"
      ]
    },
    {
      "cell_type": "markdown",
      "id": "0eb49c50",
      "metadata": {
        "id": "0eb49c50"
      },
      "source": [
        "### Choose user and number of recommendations"
      ]
    },
    {
      "cell_type": "code",
      "execution_count": 91,
      "id": "cbb59ba4",
      "metadata": {
        "colab": {
          "base_uri": "https://localhost:8080/"
        },
        "id": "cbb59ba4",
        "outputId": "027d2157-7303-4122-cee7-643d3d40f2af"
      },
      "outputs": [
        {
          "output_type": "stream",
          "name": "stdout",
          "text": [
            "some movies that the user rated highly:\n",
            "\n",
            "Toy Story (1995)\n",
            "Twelve Monkeys (1995)\n",
            "Seven (Se7en) (1995)\n",
            "Apollo 13 (1995)\n",
            "Star Wars (1977)\n",
            "Fugitive, The (1993)\n",
            "Terminator 2: Judgment Day (1991)\n",
            "Silence of the Lambs, The (1991)\n",
            "Rock, The (1996)\n",
            "Die Hard (1988)\n",
            "\n",
            "\n",
            "top 10 recommended movies for the user:\n",
            "\n",
            "Father of the Bride (1950)\n",
            "Wings of Desire (1987)\n",
            "Supercop (1992)\n",
            "Nikita (La Femme Nikita) (1990)\n",
            "Things to Do in Denver when You're Dead (1995)\n",
            "Pink Floyd - The Wall (1982)\n",
            "Reservoir Dogs (1992)\n",
            "Full Metal Jacket (1987)\n",
            "Highlander (1986)\n",
            "Great Expectations (1998)\n"
          ]
        }
      ],
      "source": [
        "# user IDs in range 0-942\n",
        "user = 123\n",
        "n_recs = 10\n",
        "\n",
        "recommend(user, n_recs)"
      ]
    },
    {
      "cell_type": "code",
      "source": [],
      "metadata": {
        "id": "tmbS4U6xp6Yf"
      },
      "id": "tmbS4U6xp6Yf",
      "execution_count": 91,
      "outputs": []
    }
  ],
  "metadata": {
    "accelerator": "GPU",
    "colab": {
      "gpuType": "T4",
      "provenance": []
    },
    "kernelspec": {
      "display_name": "Python 3 (ipykernel)",
      "language": "python",
      "name": "python3"
    },
    "language_info": {
      "codemirror_mode": {
        "name": "ipython",
        "version": 3
      },
      "file_extension": ".py",
      "mimetype": "text/x-python",
      "name": "python",
      "nbconvert_exporter": "python",
      "pygments_lexer": "ipython3",
      "version": "3.10.12"
    },
    "widgets": {
      "application/vnd.jupyter.widget-state+json": {
        "e39ace9ab2b54091b4e8b0c5e82526ae": {
          "model_module": "@jupyter-widgets/controls",
          "model_name": "HBoxModel",
          "model_module_version": "1.5.0",
          "state": {
            "_dom_classes": [],
            "_model_module": "@jupyter-widgets/controls",
            "_model_module_version": "1.5.0",
            "_model_name": "HBoxModel",
            "_view_count": null,
            "_view_module": "@jupyter-widgets/controls",
            "_view_module_version": "1.5.0",
            "_view_name": "HBoxView",
            "box_style": "",
            "children": [
              "IPY_MODEL_b2ba75f63d384b038a405dcde071a376",
              "IPY_MODEL_fa1e744962f2405582e0ba41fc8b56df",
              "IPY_MODEL_a1bf54e89ccf4e59a6a23a120ea8ec31"
            ],
            "layout": "IPY_MODEL_f17691203fed42c18b33827884bf931d"
          }
        },
        "b2ba75f63d384b038a405dcde071a376": {
          "model_module": "@jupyter-widgets/controls",
          "model_name": "HTMLModel",
          "model_module_version": "1.5.0",
          "state": {
            "_dom_classes": [],
            "_model_module": "@jupyter-widgets/controls",
            "_model_module_version": "1.5.0",
            "_model_name": "HTMLModel",
            "_view_count": null,
            "_view_module": "@jupyter-widgets/controls",
            "_view_module_version": "1.5.0",
            "_view_name": "HTMLView",
            "description": "",
            "description_tooltip": null,
            "layout": "IPY_MODEL_bcd23262b44f4989a7bfbbee4f874329",
            "placeholder": "​",
            "style": "IPY_MODEL_633842d5ca674fc981d9bbe0eef66216",
            "value": "100%"
          }
        },
        "fa1e744962f2405582e0ba41fc8b56df": {
          "model_module": "@jupyter-widgets/controls",
          "model_name": "FloatProgressModel",
          "model_module_version": "1.5.0",
          "state": {
            "_dom_classes": [],
            "_model_module": "@jupyter-widgets/controls",
            "_model_module_version": "1.5.0",
            "_model_name": "FloatProgressModel",
            "_view_count": null,
            "_view_module": "@jupyter-widgets/controls",
            "_view_module_version": "1.5.0",
            "_view_name": "ProgressView",
            "bar_style": "success",
            "description": "",
            "description_tooltip": null,
            "layout": "IPY_MODEL_d5ba46c8e0124d86929166ac79f6fab2",
            "max": 51,
            "min": 0,
            "orientation": "horizontal",
            "style": "IPY_MODEL_6f72b4b6af0f47649cd73fc107257103",
            "value": 51
          }
        },
        "a1bf54e89ccf4e59a6a23a120ea8ec31": {
          "model_module": "@jupyter-widgets/controls",
          "model_name": "HTMLModel",
          "model_module_version": "1.5.0",
          "state": {
            "_dom_classes": [],
            "_model_module": "@jupyter-widgets/controls",
            "_model_module_version": "1.5.0",
            "_model_name": "HTMLModel",
            "_view_count": null,
            "_view_module": "@jupyter-widgets/controls",
            "_view_module_version": "1.5.0",
            "_view_name": "HTMLView",
            "description": "",
            "description_tooltip": null,
            "layout": "IPY_MODEL_515b34d7218b409e9c68b31d987cd8c7",
            "placeholder": "​",
            "style": "IPY_MODEL_51296905457c4fafa6130a54abf25356",
            "value": " 51/51 [02:24&lt;00:00,  2.83s/it]"
          }
        },
        "f17691203fed42c18b33827884bf931d": {
          "model_module": "@jupyter-widgets/base",
          "model_name": "LayoutModel",
          "model_module_version": "1.2.0",
          "state": {
            "_model_module": "@jupyter-widgets/base",
            "_model_module_version": "1.2.0",
            "_model_name": "LayoutModel",
            "_view_count": null,
            "_view_module": "@jupyter-widgets/base",
            "_view_module_version": "1.2.0",
            "_view_name": "LayoutView",
            "align_content": null,
            "align_items": null,
            "align_self": null,
            "border": null,
            "bottom": null,
            "display": null,
            "flex": null,
            "flex_flow": null,
            "grid_area": null,
            "grid_auto_columns": null,
            "grid_auto_flow": null,
            "grid_auto_rows": null,
            "grid_column": null,
            "grid_gap": null,
            "grid_row": null,
            "grid_template_areas": null,
            "grid_template_columns": null,
            "grid_template_rows": null,
            "height": null,
            "justify_content": null,
            "justify_items": null,
            "left": null,
            "margin": null,
            "max_height": null,
            "max_width": null,
            "min_height": null,
            "min_width": null,
            "object_fit": null,
            "object_position": null,
            "order": null,
            "overflow": null,
            "overflow_x": null,
            "overflow_y": null,
            "padding": null,
            "right": null,
            "top": null,
            "visibility": null,
            "width": null
          }
        },
        "bcd23262b44f4989a7bfbbee4f874329": {
          "model_module": "@jupyter-widgets/base",
          "model_name": "LayoutModel",
          "model_module_version": "1.2.0",
          "state": {
            "_model_module": "@jupyter-widgets/base",
            "_model_module_version": "1.2.0",
            "_model_name": "LayoutModel",
            "_view_count": null,
            "_view_module": "@jupyter-widgets/base",
            "_view_module_version": "1.2.0",
            "_view_name": "LayoutView",
            "align_content": null,
            "align_items": null,
            "align_self": null,
            "border": null,
            "bottom": null,
            "display": null,
            "flex": null,
            "flex_flow": null,
            "grid_area": null,
            "grid_auto_columns": null,
            "grid_auto_flow": null,
            "grid_auto_rows": null,
            "grid_column": null,
            "grid_gap": null,
            "grid_row": null,
            "grid_template_areas": null,
            "grid_template_columns": null,
            "grid_template_rows": null,
            "height": null,
            "justify_content": null,
            "justify_items": null,
            "left": null,
            "margin": null,
            "max_height": null,
            "max_width": null,
            "min_height": null,
            "min_width": null,
            "object_fit": null,
            "object_position": null,
            "order": null,
            "overflow": null,
            "overflow_x": null,
            "overflow_y": null,
            "padding": null,
            "right": null,
            "top": null,
            "visibility": null,
            "width": null
          }
        },
        "633842d5ca674fc981d9bbe0eef66216": {
          "model_module": "@jupyter-widgets/controls",
          "model_name": "DescriptionStyleModel",
          "model_module_version": "1.5.0",
          "state": {
            "_model_module": "@jupyter-widgets/controls",
            "_model_module_version": "1.5.0",
            "_model_name": "DescriptionStyleModel",
            "_view_count": null,
            "_view_module": "@jupyter-widgets/base",
            "_view_module_version": "1.2.0",
            "_view_name": "StyleView",
            "description_width": ""
          }
        },
        "d5ba46c8e0124d86929166ac79f6fab2": {
          "model_module": "@jupyter-widgets/base",
          "model_name": "LayoutModel",
          "model_module_version": "1.2.0",
          "state": {
            "_model_module": "@jupyter-widgets/base",
            "_model_module_version": "1.2.0",
            "_model_name": "LayoutModel",
            "_view_count": null,
            "_view_module": "@jupyter-widgets/base",
            "_view_module_version": "1.2.0",
            "_view_name": "LayoutView",
            "align_content": null,
            "align_items": null,
            "align_self": null,
            "border": null,
            "bottom": null,
            "display": null,
            "flex": null,
            "flex_flow": null,
            "grid_area": null,
            "grid_auto_columns": null,
            "grid_auto_flow": null,
            "grid_auto_rows": null,
            "grid_column": null,
            "grid_gap": null,
            "grid_row": null,
            "grid_template_areas": null,
            "grid_template_columns": null,
            "grid_template_rows": null,
            "height": null,
            "justify_content": null,
            "justify_items": null,
            "left": null,
            "margin": null,
            "max_height": null,
            "max_width": null,
            "min_height": null,
            "min_width": null,
            "object_fit": null,
            "object_position": null,
            "order": null,
            "overflow": null,
            "overflow_x": null,
            "overflow_y": null,
            "padding": null,
            "right": null,
            "top": null,
            "visibility": null,
            "width": null
          }
        },
        "6f72b4b6af0f47649cd73fc107257103": {
          "model_module": "@jupyter-widgets/controls",
          "model_name": "ProgressStyleModel",
          "model_module_version": "1.5.0",
          "state": {
            "_model_module": "@jupyter-widgets/controls",
            "_model_module_version": "1.5.0",
            "_model_name": "ProgressStyleModel",
            "_view_count": null,
            "_view_module": "@jupyter-widgets/base",
            "_view_module_version": "1.2.0",
            "_view_name": "StyleView",
            "bar_color": null,
            "description_width": ""
          }
        },
        "515b34d7218b409e9c68b31d987cd8c7": {
          "model_module": "@jupyter-widgets/base",
          "model_name": "LayoutModel",
          "model_module_version": "1.2.0",
          "state": {
            "_model_module": "@jupyter-widgets/base",
            "_model_module_version": "1.2.0",
            "_model_name": "LayoutModel",
            "_view_count": null,
            "_view_module": "@jupyter-widgets/base",
            "_view_module_version": "1.2.0",
            "_view_name": "LayoutView",
            "align_content": null,
            "align_items": null,
            "align_self": null,
            "border": null,
            "bottom": null,
            "display": null,
            "flex": null,
            "flex_flow": null,
            "grid_area": null,
            "grid_auto_columns": null,
            "grid_auto_flow": null,
            "grid_auto_rows": null,
            "grid_column": null,
            "grid_gap": null,
            "grid_row": null,
            "grid_template_areas": null,
            "grid_template_columns": null,
            "grid_template_rows": null,
            "height": null,
            "justify_content": null,
            "justify_items": null,
            "left": null,
            "margin": null,
            "max_height": null,
            "max_width": null,
            "min_height": null,
            "min_width": null,
            "object_fit": null,
            "object_position": null,
            "order": null,
            "overflow": null,
            "overflow_x": null,
            "overflow_y": null,
            "padding": null,
            "right": null,
            "top": null,
            "visibility": null,
            "width": null
          }
        },
        "51296905457c4fafa6130a54abf25356": {
          "model_module": "@jupyter-widgets/controls",
          "model_name": "DescriptionStyleModel",
          "model_module_version": "1.5.0",
          "state": {
            "_model_module": "@jupyter-widgets/controls",
            "_model_module_version": "1.5.0",
            "_model_name": "DescriptionStyleModel",
            "_view_count": null,
            "_view_module": "@jupyter-widgets/base",
            "_view_module_version": "1.2.0",
            "_view_name": "StyleView",
            "description_width": ""
          }
        }
      }
    }
  },
  "nbformat": 4,
  "nbformat_minor": 5
}