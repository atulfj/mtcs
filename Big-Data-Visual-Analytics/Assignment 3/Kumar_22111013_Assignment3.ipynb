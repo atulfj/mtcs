{
 "cells": [
  {
   "cell_type": "markdown",
   "id": "42a08c3a",
   "metadata": {},
   "source": [
    "### 1. Importing libraries\n",
    "For this assignment I've used the following libraries:\n",
    "- VTK\n",
    "- ipywidgets\n",
    "- IPython\n",
    "- plotly\n",
    "\n",
    "If these libraries are not present, see [Python's package installation guide](https://packaging.python.org/en/latest/tutorials/installing-packages/)."
   ]
  },
  {
   "cell_type": "code",
   "execution_count": 87,
   "id": "39077558",
   "metadata": {},
   "outputs": [],
   "source": [
    "import vtk\n",
    "from ipywidgets import *\n",
    "from IPython.display import display, clear_output\n",
    "import plotly.express as px\n",
    "import plotly.graph_objects as go\n",
    "import numpy as np"
   ]
  },
  {
   "cell_type": "markdown",
   "id": "32738468",
   "metadata": {},
   "source": [
    "### 2. Extracting useful information from the .vti file\n",
    "For this task we require the following information:\n",
    "1. Range of data values (for slider and histogram)\n",
    "2. Coordinates and corresponding values (for isosurface)\n",
    "\n",
    "I've used standard VTK functions to get the above."
   ]
  },
  {
   "cell_type": "code",
   "execution_count": 88,
   "id": "610b5d64",
   "metadata": {},
   "outputs": [],
   "source": [
    "# Reads the .vti file\n",
    "\n",
    "reader = vtk.vtkXMLImageDataReader()\n",
    "\n",
    "#########################################################\n",
    "# Make sure the file is present in the path given below #\n",
    "filepath = \"./mixture.vti\"                              #\n",
    "#########################################################\n",
    "\n",
    "reader.SetFileName(filepath)\n",
    "reader.Update()\n",
    "data = reader.GetOutput()"
   ]
  },
  {
   "cell_type": "code",
   "execution_count": 89,
   "id": "b14fe86b",
   "metadata": {},
   "outputs": [
    {
     "name": "stdout",
     "output_type": "stream",
     "text": [
      "-0.9935540556907654 0.43280163407325745\n"
     ]
    }
   ],
   "source": [
    "# Gets the range in form of minimum and maximum values inside the data\n",
    "\n",
    "arr = data.GetPointData().GetArray('ImageFile')\n",
    "minVal, maxVal = arr.GetRange()[0], arr.GetRange()[1]\n",
    "print(minVal, maxVal)"
   ]
  },
  {
   "cell_type": "code",
   "execution_count": 90,
   "id": "c45dd223",
   "metadata": {},
   "outputs": [],
   "source": [
    "totalPoints = data.GetNumberOfPoints()\n",
    "\n",
    "values = [] # scalar values\n",
    "x = [] # x coordinates\n",
    "y = [] # y coordinates\n",
    "z = [] # z coordinates\n",
    "\n",
    "for i in range(totalPoints):\n",
    "    values.append(data.GetPointData().GetScalars().GetValue(i))\n",
    "    coords = data.GetPoint(i)\n",
    "    x.append(coords[0])\n",
    "    y.append(coords[1])\n",
    "    z.append(coords[2])"
   ]
  },
  {
   "cell_type": "code",
   "execution_count": 91,
   "id": "1bcfdb9f",
   "metadata": {},
   "outputs": [
    {
     "name": "stdout",
     "output_type": "stream",
     "text": [
      "421875 421875 421875 421875\n"
     ]
    }
   ],
   "source": [
    "# Checking that the extracted values are equal and aligned\n",
    "\n",
    "print(len(x),len(y),len(z),len(values))"
   ]
  },
  {
   "cell_type": "markdown",
   "id": "b03159b3",
   "metadata": {},
   "source": [
    "### 3. Creating the UI elements\n",
    "Next step is to create the slider and the button. For function description and parameter details, see the [widget API](https://ipywidgets.readthedocs.io/en/stable/examples/Widget%20List.html) of ipywidgets."
   ]
  },
  {
   "cell_type": "code",
   "execution_count": 92,
   "id": "ac5feefe",
   "metadata": {},
   "outputs": [
    {
     "data": {
      "application/vnd.jupyter.widget-view+json": {
       "model_id": "4fc57e39b5db4001b0616cdc370a35bd",
       "version_major": 2,
       "version_minor": 0
      },
      "text/plain": [
       "FloatSlider(value=0.0, continuous_update=False, description='Isovalue:', layout=Layout(width='40%'), max=0.432…"
      ]
     },
     "metadata": {},
     "output_type": "display_data"
    }
   ],
   "source": [
    "# Creates the slider \n",
    "\n",
    "slider = FloatSlider(value=0.0,\n",
    "                        min=minVal,\n",
    "                        max=maxVal,\n",
    "                        step=0.01,\n",
    "                        description='Isovalue:',\n",
    "                        disabled=False,\n",
    "                        continuous_update=False,\n",
    "                        orientation='horizontal',\n",
    "                        readout=True,\n",
    "                        readout_format='.2f',\n",
    "                        layout=Layout(width='40%')\n",
    "                    )\n",
    "\n",
    "display(slider)"
   ]
  },
  {
   "cell_type": "code",
   "execution_count": 93,
   "id": "130ba4b0",
   "metadata": {},
   "outputs": [
    {
     "data": {
      "application/vnd.jupyter.widget-view+json": {
       "model_id": "a0cb65a939764426bc4031ddc2c2fed4",
       "version_major": 2,
       "version_minor": 0
      },
      "text/plain": [
       "Button(description='Reset', layout=Layout(width='15%'), style=ButtonStyle())"
      ]
     },
     "execution_count": 93,
     "metadata": {},
     "output_type": "execute_result"
    }
   ],
   "source": [
    "# Creates the button\n",
    "\n",
    "button = Button(description='Reset',\n",
    "                    button_style='',\n",
    "                    layout=Layout(width='15%')\n",
    "               )\n",
    "\n",
    "button"
   ]
  },
  {
   "cell_type": "markdown",
   "id": "f55c082d",
   "metadata": {},
   "source": [
    "### 4. Creating the isosurface and the histogram\n",
    "- For isosurface, I've used [plotly's graph objects API for isosurface](https://plotly.github.io/plotly.py-docs/generated/plotly.graph_objects.Isosurface.html)\n",
    "- For histogram, I've used [plotly express API for histogram](https://plotly.github.io/plotly.py-docs/generated/plotly.express.histogram.html)"
   ]
  },
  {
   "cell_type": "code",
   "execution_count": 94,
   "id": "c760eaa2",
   "metadata": {},
   "outputs": [],
   "source": [
    "# Creates isosurface figure\n",
    "\n",
    "surf = go.Figure(data=go.Isosurface(x=x,\n",
    "                                    y=y,\n",
    "                                    z=z,\n",
    "                                    value=values,\n",
    "                                    isomin=0.00,\n",
    "                                    isomax=0.00,\n",
    "                                    cmin=minVal,\n",
    "                                    cmax=maxVal,\n",
    "                                    showscale=False,\n",
    "                                    colorscale='Plasma'\n",
    "                                    )\n",
    "                )\n",
    "\n",
    "# Hides tick labels from the x, y, z axes\n",
    "_ = surf.update_layout(scene=dict(xaxis=dict(showticklabels=False),\n",
    "                                  yaxis=dict(showticklabels=False),\n",
    "                                  zaxis=dict(showticklabels=False)\n",
    "                                 )\n",
    "                      )"
   ]
  },
  {
   "cell_type": "code",
   "execution_count": 95,
   "id": "a5186d9c",
   "metadata": {},
   "outputs": [],
   "source": [
    "# Creates histogram figure\n",
    "\n",
    "hist = go.Figure(px.histogram(x=values,\n",
    "                              nbins=30\n",
    "                             )\n",
    "                )\n",
    "\n",
    "# Add axis labels\n",
    "_ = hist.update_layout(xaxis_title='Vortex scalar values',\n",
    "                       yaxis_title='Frequency'\n",
    "                      )"
   ]
  },
  {
   "cell_type": "markdown",
   "id": "a0b6033f",
   "metadata": {},
   "source": [
    "### 5. Defining the update functions for interactions\n",
    "There are 4 functions that may get triggered on interactions with slider and button:\n",
    "1. ***updateSurface(isoval)*** updates the isosurface.\n",
    "2. ***updateHist(isoval)*** updates the histogram based on session and isovalue.\n",
    "3. ***onSliderChange(change)*** is called when the slider value is changed.\n",
    "4. ***onButtonClick(_)*** is called on button click. '_' is a [throwaway variable](https://stackoverflow.com/questions/5893163/what-is-the-purpose-of-the-single-underscore-variable-in-python)."
   ]
  },
  {
   "cell_type": "code",
   "execution_count": 96,
   "id": "9d72b4d2",
   "metadata": {},
   "outputs": [],
   "source": [
    "# Function that updates the isosurface \n",
    "\n",
    "def updateSurface(isoval):\n",
    "    surf.update_traces(isomin=isoval)\n",
    "    surf.update_traces(isomax=isoval)\n",
    "    return surf"
   ]
  },
  {
   "cell_type": "code",
   "execution_count": 97,
   "id": "ba89f906",
   "metadata": {},
   "outputs": [],
   "source": [
    "# Function that updates the histogram \n",
    "\n",
    "def updateHist(isoval):\n",
    "    global startSession\n",
    "    if startSession and isoval == 0.00:\n",
    "        startSession = False\n",
    "        hist.update_traces(x=values) # use full range at start of session\n",
    "    else:\n",
    "        hist.update_traces(x=[val for val in values if val >= isoval-0.25 and val <= isoval+0.25])\n",
    "    return hist"
   ]
  },
  {
   "cell_type": "code",
   "execution_count": 98,
   "id": "b25c584d",
   "metadata": {},
   "outputs": [],
   "source": [
    "# Defines what to do on slider change\n",
    "\n",
    "def onSliderChange(change):\n",
    "    surf = updateSurface(change.new)\n",
    "    hist = updateHist(change.new)\n",
    "    plots = HBox([go.FigureWidget(surf), go.FigureWidget(hist)])\n",
    "    clear_output()\n",
    "    display(ui, plots)\n",
    "    \n",
    "# Bind slider with the function above\n",
    "slider.observe(onSliderChange, names='value')"
   ]
  },
  {
   "cell_type": "markdown",
   "id": "b1db1704",
   "metadata": {},
   "source": [
    "#### Handling the 'Reset' button\n",
    "The following boolean variable *startSession* keeps track of the Reset button. The idea used here is that I'm treating every interaction by the user as part of one 'session'. So initially, *startSession* is True. After the plots are updated because of slider change, *startSession* becomes False because it's an old session. When the reset button is clicked, a new session begins and *startSession* becomes True again. \n",
    "\n",
    "This variable also helps in updating the histogram's x axis depending on whether the reset button has been pressed or not."
   ]
  },
  {
   "cell_type": "code",
   "execution_count": 99,
   "id": "61954dc0",
   "metadata": {},
   "outputs": [],
   "source": [
    "# Defining and initializing the session variable \n",
    "\n",
    "startSession = True"
   ]
  },
  {
   "cell_type": "code",
   "execution_count": 100,
   "id": "3eacbf77",
   "metadata": {},
   "outputs": [],
   "source": [
    "# Defines what happens on Reset button press\n",
    "\n",
    "def onButtonClick(_):\n",
    "    global startSession\n",
    "    # begin new session\n",
    "    startSession = True\n",
    "    # set slider value to 0\n",
    "    slider.value = 0.00\n",
    "\n",
    "# Bind button with the function above\n",
    "button.on_click(onButtonClick)"
   ]
  },
  {
   "cell_type": "markdown",
   "id": "4cdb112e",
   "metadata": {},
   "source": [
    "### 6. Setting the display elements\n",
    "- Slider and button make up the UI. \n",
    "- Isosurface and histogram make up the plots. \n",
    "Plotly figures aren't directly compatible with HBox, so I've used [FigureWidget](https://plotly.com/python/figurewidget/) to first convert the figures into widgets. This allows figures to be treated as widgets and arrange them as we like."
   ]
  },
  {
   "cell_type": "code",
   "execution_count": 101,
   "id": "de729d49",
   "metadata": {},
   "outputs": [],
   "source": [
    "# Put slider and button in one horizontal box and the plots into another\n",
    "\n",
    "ui = HBox([slider, button])\n",
    "plots = HBox([go.FigureWidget(surf), go.FigureWidget(hist)])"
   ]
  },
  {
   "cell_type": "code",
   "execution_count": 102,
   "id": "07d1517c",
   "metadata": {},
   "outputs": [],
   "source": [
    "# Calling this function will start the visualization\n",
    "\n",
    "def beginViz():\n",
    "    display(ui, plots)\n",
    "    slider.value = 0.00"
   ]
  },
  {
   "cell_type": "markdown",
   "id": "4ccf2b86",
   "metadata": {},
   "source": [
    "## ~~~~~~~START~~~~~~~~"
   ]
  },
  {
   "cell_type": "code",
   "execution_count": 103,
   "id": "5dff971c",
   "metadata": {},
   "outputs": [
    {
     "data": {
      "application/vnd.jupyter.widget-view+json": {
       "model_id": "5fd46de0febf4b2389b8cd2f90c68f07",
       "version_major": 2,
       "version_minor": 0
      },
      "text/plain": [
       "HBox(children=(FloatSlider(value=-0.09355405569076536, continuous_update=False, description='Isovalue:', layou…"
      ]
     },
     "metadata": {},
     "output_type": "display_data"
    },
    {
     "data": {
      "application/vnd.jupyter.widget-view+json": {
       "model_id": "e9510d92cd8e4b51a6aa4aedbf55c63f",
       "version_major": 2,
       "version_minor": 0
      },
      "text/plain": [
       "HBox(children=(FigureWidget({\n",
       "    'data': [{'cmax': 0.43280163407325745,\n",
       "              'cmin': -0.993554055690…"
      ]
     },
     "metadata": {},
     "output_type": "display_data"
    }
   ],
   "source": [
    "beginViz()"
   ]
  }
 ],
 "metadata": {
  "kernelspec": {
   "display_name": "Python 3 (ipykernel)",
   "language": "python",
   "name": "python3"
  },
  "language_info": {
   "codemirror_mode": {
    "name": "ipython",
    "version": 3
   },
   "file_extension": ".py",
   "mimetype": "text/x-python",
   "name": "python",
   "nbconvert_exporter": "python",
   "pygments_lexer": "ipython3",
   "version": "3.10.6"
  }
 },
 "nbformat": 4,
 "nbformat_minor": 5
}
