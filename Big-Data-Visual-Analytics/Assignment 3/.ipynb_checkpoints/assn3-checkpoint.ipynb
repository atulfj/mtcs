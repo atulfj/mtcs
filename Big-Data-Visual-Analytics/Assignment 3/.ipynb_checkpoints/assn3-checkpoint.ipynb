{
 "cells": [
  {
   "cell_type": "markdown",
   "id": "42c01278",
   "metadata": {},
   "source": [
    "## IDEA\n",
    "#### 1. Find range of data values\n",
    "#### 2. Create slider\n",
    "#### 3. Draw volume map\n",
    "#### 4. Draw histogram\n",
    "#### 5. Put them side by side\n",
    "#### 6. Integrate events"
   ]
  },
  {
   "cell_type": "code",
   "execution_count": 1,
   "id": "a423dd63",
   "metadata": {},
   "outputs": [],
   "source": [
    "import vtk\n",
    "from ipywidgets import *\n",
    "import plotly.express as px\n",
    "import plotly.graph_objects as go\n",
    "from plotly.subplots import make_subplots\n",
    "import numpy as np"
   ]
  },
  {
   "cell_type": "markdown",
   "id": "32738468",
   "metadata": {},
   "source": [
    "### Finding range of values"
   ]
  },
  {
   "cell_type": "code",
   "execution_count": 2,
   "id": "610b5d64",
   "metadata": {},
   "outputs": [
    {
     "data": {
      "text/plain": [
       "vtkmodules.vtkCommonDataModel.vtkImageData"
      ]
     },
     "execution_count": 2,
     "metadata": {},
     "output_type": "execute_result"
    }
   ],
   "source": [
    "# Load data\n",
    "\n",
    "reader = vtk.vtkXMLImageDataReader()\n",
    "reader.SetFileName(\"./mixture.vti\")\n",
    "reader.Update()\n",
    "data = reader.GetOutput()\n",
    "type(data)"
   ]
  },
  {
   "cell_type": "code",
   "execution_count": 3,
   "id": "b14fe86b",
   "metadata": {},
   "outputs": [
    {
     "data": {
      "text/plain": [
       "(-0.9935540556907654, 0.43280163407325745)"
      ]
     },
     "execution_count": 3,
     "metadata": {},
     "output_type": "execute_result"
    }
   ],
   "source": [
    "# Get range of array 'vtkGhostType'\n",
    "\n",
    "arr = data.GetPointData().GetArray('ImageFile')\n",
    "arr.GetRange()"
   ]
  },
  {
   "cell_type": "code",
   "execution_count": 4,
   "id": "0c8e40f9",
   "metadata": {},
   "outputs": [],
   "source": [
    "# Save the range\n",
    "\n",
    "minVal, maxVal = arr.GetRange()[0], arr.GetRange()[1]"
   ]
  },
  {
   "cell_type": "code",
   "execution_count": 5,
   "id": "c45dd223",
   "metadata": {},
   "outputs": [],
   "source": [
    "totalPoints = data.GetNumberOfPoints()\n",
    "\n",
    "values = []\n",
    "x = []\n",
    "y = []\n",
    "z = []\n",
    "\n",
    "for i in range(totalPoints):\n",
    "    values.append(data.GetPointData().GetScalars().GetValue(i))\n",
    "    temp = data.GetPoint(i)\n",
    "    x.append(temp[0])\n",
    "    y.append(temp[1])\n",
    "    z.append(temp[2])"
   ]
  },
  {
   "cell_type": "code",
   "execution_count": 6,
   "id": "1bcfdb9f",
   "metadata": {},
   "outputs": [
    {
     "name": "stdout",
     "output_type": "stream",
     "text": [
      "421875 421875 421875 421875\n"
     ]
    }
   ],
   "source": [
    "print(len(x),len(y),len(z),len(values))"
   ]
  },
  {
   "cell_type": "markdown",
   "id": "b03159b3",
   "metadata": {},
   "source": [
    "### Create interface"
   ]
  },
  {
   "cell_type": "code",
   "execution_count": 7,
   "id": "ac5feefe",
   "metadata": {},
   "outputs": [
    {
     "data": {
      "application/vnd.jupyter.widget-view+json": {
       "model_id": "49b4c35e96d14cd792a799d55c873660",
       "version_major": 2,
       "version_minor": 0
      },
      "text/plain": [
       "FloatSlider(value=0.0, continuous_update=False, description='Isovalue:', max=0.43280163407325745, min=-0.99355…"
      ]
     },
     "metadata": {},
     "output_type": "display_data"
    }
   ],
   "source": [
    "# Slider\n",
    "\n",
    "slider = FloatSlider(value=0.0,\n",
    "                        min=minVal,\n",
    "                        max=maxVal,\n",
    "                        step=0.01,\n",
    "                        description='Isovalue:',\n",
    "                        disabled=False,\n",
    "                        continuous_update=False,\n",
    "                        orientation='horizontal',\n",
    "                        readout=True,\n",
    "                        readout_format='.2f',)\n",
    "\n",
    "display(slider)"
   ]
  },
  {
   "cell_type": "code",
   "execution_count": 8,
   "id": "130ba4b0",
   "metadata": {},
   "outputs": [
    {
     "data": {
      "application/vnd.jupyter.widget-view+json": {
       "model_id": "ed4cd33c76e44cf4a325c58a315d9ed5",
       "version_major": 2,
       "version_minor": 0
      },
      "text/plain": [
       "Button(button_style='info', description='Reset', layout=Layout(width='10%'), style=ButtonStyle())"
      ]
     },
     "execution_count": 8,
     "metadata": {},
     "output_type": "execute_result"
    }
   ],
   "source": [
    "button = Button(description='Reset',\n",
    "                    button_style='info',\n",
    "                    layout=Layout(width='10%'))\n",
    "\n",
    "button"
   ]
  },
  {
   "cell_type": "code",
   "execution_count": 9,
   "id": "73b68584",
   "metadata": {},
   "outputs": [],
   "source": [
    "# define the plotting as sessions\n",
    "# session is reset when the button is pressed\n",
    "# adjust range when it is start of session\n",
    "# limit range when it is during session\n",
    "startSession = True"
   ]
  },
  {
   "cell_type": "code",
   "execution_count": 10,
   "id": "9d72b4d2",
   "metadata": {},
   "outputs": [],
   "source": [
    "def updateSurface(isoval):\n",
    "    global x, y, z, values, minVal, maxVal\n",
    "    surf = go.Figure(data=go.Isosurface(\n",
    "        x=x,\n",
    "        y=y,\n",
    "        z=z,\n",
    "        value=values,\n",
    "        isomin=isoval,\n",
    "        isomax=isoval,\n",
    "        showscale=False,\n",
    "        colorscale='Plasma',\n",
    "        ))\n",
    "    surf.update_layout(autosize=False,\n",
    "                       width=500,\n",
    "                       height=500)\n",
    "    surf.show()"
   ]
  },
  {
   "cell_type": "code",
   "execution_count": 11,
   "id": "4ca0993c",
   "metadata": {},
   "outputs": [],
   "source": [
    "def updateHist(isoval):\n",
    "    global startSession\n",
    "    hist = px.histogram(x=values)\n",
    "    hist.update_layout(autosize=False,\n",
    "                       width=500,\n",
    "                       height=500,\n",
    "                       xaxis_title='Vortex scalar values',\n",
    "                       yaxis_title='Frequency')\n",
    "    if startSession:\n",
    "        startSession = False\n",
    "    else:\n",
    "        hist.update_xaxes(range=[isoval-0.25, isoval+0.25])\n",
    "    hist.show()"
   ]
  },
  {
   "cell_type": "code",
   "execution_count": 12,
   "id": "3eacbf77",
   "metadata": {},
   "outputs": [],
   "source": [
    "def onButtonClick(_):\n",
    "    global startSession\n",
    "    startSession = True\n",
    "    slider.value = 0.00"
   ]
  },
  {
   "cell_type": "code",
   "execution_count": 13,
   "id": "eff3c128",
   "metadata": {},
   "outputs": [],
   "source": [
    "surface = interactive_output(updateSurface, {'isoval': slider})\n",
    "hist = interactive_output(updateHist, {'isoval': slider})"
   ]
  },
  {
   "cell_type": "code",
   "execution_count": 14,
   "id": "a9016faf",
   "metadata": {},
   "outputs": [],
   "source": [
    "button.on_click(onButtonClick)"
   ]
  },
  {
   "cell_type": "code",
   "execution_count": 15,
   "id": "78c5f3ca",
   "metadata": {},
   "outputs": [
    {
     "data": {
      "application/vnd.jupyter.widget-view+json": {
       "model_id": "db1bcd2b99ee4c448d71b7cb05e13fd6",
       "version_major": 2,
       "version_minor": 0
      },
      "text/plain": [
       "VBox(children=(HBox(children=(FloatSlider(value=0.0, continuous_update=False, description='Isovalue:', max=0.4…"
      ]
     },
     "metadata": {},
     "output_type": "display_data"
    }
   ],
   "source": [
    "display(VBox([HBox([slider, button]), HBox([surface, hist])]))"
   ]
  },
  {
   "cell_type": "code",
   "execution_count": null,
   "id": "f031b93c",
   "metadata": {},
   "outputs": [],
   "source": []
  }
 ],
 "metadata": {
  "kernelspec": {
   "display_name": "Python 3 (ipykernel)",
   "language": "python",
   "name": "python3"
  },
  "language_info": {
   "codemirror_mode": {
    "name": "ipython",
    "version": 3
   },
   "file_extension": ".py",
   "mimetype": "text/x-python",
   "name": "python",
   "nbconvert_exporter": "python",
   "pygments_lexer": "ipython3",
   "version": "3.10.6"
  }
 },
 "nbformat": 4,
 "nbformat_minor": 5
}
