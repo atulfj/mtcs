{
 "cells": [
  {
   "cell_type": "markdown",
   "id": "42c01278",
   "metadata": {},
   "source": [
    "## IDEA\n",
    "#### 1. Find range of data values\n",
    "#### 2. Create slider\n",
    "#### 3. Draw volume map\n",
    "#### 4. Draw histogram\n",
    "#### 5. Put them side by side\n",
    "#### 6. Integrate events"
   ]
  },
  {
   "cell_type": "code",
   "execution_count": 2,
   "id": "a423dd63",
   "metadata": {},
   "outputs": [],
   "source": [
    "import vtk\n",
    "from ipywidgets import *\n",
    "import plotly.express as px\n",
    "import plotly.graph_objects as go\n",
    "import numpy as np"
   ]
  },
  {
   "cell_type": "markdown",
   "id": "32738468",
   "metadata": {},
   "source": [
    "### Finding range of values"
   ]
  },
  {
   "cell_type": "code",
   "execution_count": 3,
   "id": "610b5d64",
   "metadata": {},
   "outputs": [
    {
     "data": {
      "text/plain": [
       "vtkCommonDataModelPython.vtkImageData"
      ]
     },
     "execution_count": 3,
     "metadata": {},
     "output_type": "execute_result"
    }
   ],
   "source": [
    "# Load data\n",
    "\n",
    "reader = vtk.vtkXMLImageDataReader()\n",
    "reader.SetFileName(\"./mixture.vti\")\n",
    "reader.Update()\n",
    "data = reader.GetOutput()\n",
    "type(data)"
   ]
  },
  {
   "cell_type": "code",
   "execution_count": 4,
   "id": "b14fe86b",
   "metadata": {},
   "outputs": [
    {
     "data": {
      "text/plain": [
       "(-0.9935540556907654, 0.43280163407325745)"
      ]
     },
     "execution_count": 4,
     "metadata": {},
     "output_type": "execute_result"
    }
   ],
   "source": [
    "# Get range of array 'vtkGhostType'\n",
    "\n",
    "arr = data.GetPointData().GetArray('ImageFile')\n",
    "arr.GetRange()"
   ]
  },
  {
   "cell_type": "code",
   "execution_count": 5,
   "id": "0c8e40f9",
   "metadata": {},
   "outputs": [],
   "source": [
    "# Save the range\n",
    "\n",
    "minVal, maxVal = arr.GetRange()[0], arr.GetRange()[1]"
   ]
  },
  {
   "cell_type": "code",
   "execution_count": 6,
   "id": "5ae04be3",
   "metadata": {},
   "outputs": [],
   "source": [
    "# Finding x, y, z coordinates and values\n",
    "\n",
    "totalCells = data.GetNumberOfCells()\n",
    "x = []\n",
    "y = []\n",
    "z = []\n",
    "values = []\n",
    "\n",
    "for i in range(totalCells):\n",
    "    cell = data.GetCell(i)\n",
    "    # point indices\n",
    "    p1, p2, p3, p4 = cell.GetPointId(0), cell.GetPointId(1), cell.GetPointId(2), cell.GetPointId(3)\n",
    "    # point coordinates\n",
    "    c1, c2, c3, c4 = data.GetPoint(p1), data.GetPoint(p2), data.GetPoint(p3), data.GetPoint(p4)\n",
    "    # point values\n",
    "    v1, v2, v3, v4 = arr.GetTuple1(p1), arr.GetTuple1(p2), arr.GetTuple1(p3), arr.GetTuple1(p4)\n",
    "    # append coordinates to corresponding list\n",
    "    x += [c1[0], c2[0], c3[0], c4[0]]\n",
    "    y += [c1[1], c2[1], c3[1], c4[1]]\n",
    "    z += [c1[2], c2[2], c3[2], c4[2]]\n",
    "    values += [v1, v2, v3, v4]"
   ]
  },
  {
   "cell_type": "markdown",
   "id": "b03159b3",
   "metadata": {},
   "source": [
    "### Create interface"
   ]
  },
  {
   "cell_type": "code",
   "execution_count": 7,
   "id": "ac5feefe",
   "metadata": {},
   "outputs": [
    {
     "name": "stderr",
     "output_type": "stream",
     "text": [
      "Widget Javascript not detected.  It may not be installed or enabled properly. Reconnecting the current kernel may help.\n"
     ]
    },
    {
     "data": {
      "application/vnd.jupyter.widget-view+json": {
       "model_id": "10794c3f8d7a412e87d1ebc53e5e77ce"
      }
     },
     "metadata": {},
     "output_type": "display_data"
    }
   ],
   "source": [
    "# Slider\n",
    "\n",
    "slider = FloatSlider(value=0.0,\n",
    "                        min=minVal,\n",
    "                        max=maxVal,\n",
    "                        step=0.01,\n",
    "                        description='Isovalue:',\n",
    "                        disabled=False,\n",
    "                        continuous_update=False,\n",
    "                        orientation='horizontal',\n",
    "                        readout=True,\n",
    "                        readout_format='.2f',)\n",
    "\n",
    "slider"
   ]
  },
  {
   "cell_type": "code",
   "execution_count": 8,
   "id": "130ba4b0",
   "metadata": {},
   "outputs": [
    {
     "name": "stderr",
     "output_type": "stream",
     "text": [
      "Widget Javascript not detected.  It may not be installed or enabled properly. Reconnecting the current kernel may help.\n"
     ]
    },
    {
     "data": {
      "application/vnd.jupyter.widget-view+json": {
       "model_id": "4d2255b41e2248fb8e1730018033bb35"
      }
     },
     "metadata": {},
     "output_type": "display_data"
    }
   ],
   "source": [
    "button = Button(description='Reset',\n",
    "                    button_style='info',\n",
    "                    layout=Layout(width='10%'))\n",
    "\n",
    "button"
   ]
  },
  {
   "cell_type": "code",
   "execution_count": 9,
   "id": "5caa2112",
   "metadata": {},
   "outputs": [],
   "source": [
    "import matplotlib.pyplot as plt"
   ]
  },
  {
   "cell_type": "code",
   "execution_count": 10,
   "id": "73b68584",
   "metadata": {},
   "outputs": [],
   "source": [
    "# define the plotting as sessions\n",
    "# session is reset when the button is pressed\n",
    "# adjust range when it is start of session\n",
    "# limit range when it is during session\n",
    "startSession = True"
   ]
  },
  {
   "cell_type": "code",
   "execution_count": 11,
   "id": "9d72b4d2",
   "metadata": {},
   "outputs": [],
   "source": [
    "X, Y, Z = np.mgrid[-5:5:40j, -5:5:40j, -5:5:40j]\n",
    "\n",
    "# ellipsoid\n",
    "values = X * X * 0.5 + Y * Y + Z * Z * 2\n",
    "\n",
    "def updateSurface(isoval):\n",
    "    fig = go.Figure(data=go.Isosurface(\n",
    "            x=X.flatten(),\n",
    "            y=Y.flatten(),\n",
    "            z=Z.flatten(),\n",
    "            value=values.flatten(),\n",
    "            colorscale='BlueRed',\n",
    "            isomin=10,\n",
    "            isomax=50,\n",
    "            surface_count=3,\n",
    "            caps=dict(x_show=False, y_show=False)\n",
    "            ))\n",
    "    \n",
    "    fig.show()\n",
    "    \"\"\"\n",
    "    global x, y, z, values, minVal, maxVal\n",
    "    surf = go.Figure(data=go.Isosurface(\n",
    "            x=x,\n",
    "            y=y,\n",
    "            z=z,\n",
    "            value=values,\n",
    "            isomin=isoval,\n",
    "            isomax=maxVal,\n",
    "            ))\n",
    "    surf.show()\n",
    "    \"\"\""
   ]
  },
  {
   "cell_type": "code",
   "execution_count": 12,
   "id": "4ca0993c",
   "metadata": {},
   "outputs": [],
   "source": [
    "def updateHist(isoval):\n",
    "    global startSession\n",
    "    plt.figure(2)\n",
    "    x = np.linspace(-10, 10, num=1000)\n",
    "    plt.plot(x, isoval * x)\n",
    "    plt.ylim(-5, 5)\n",
    "    if startSession:\n",
    "        startSession = False\n",
    "    else:\n",
    "        plt.xlim(isoval-0.25, isoval+0.25)\n",
    "    plt.show()"
   ]
  },
  {
   "cell_type": "code",
   "execution_count": 13,
   "id": "3eacbf77",
   "metadata": {},
   "outputs": [],
   "source": [
    "def onButtonClick(_):\n",
    "    global startSession\n",
    "    startSession = True\n",
    "    slider.value = 0.00"
   ]
  },
  {
   "cell_type": "code",
   "execution_count": 14,
   "id": "eff3c128",
   "metadata": {},
   "outputs": [],
   "source": [
    "surface = interactive_output(updateSurface, {'isoval': slider})\n",
    "hist = interactive_output(updateHist, {'isoval': slider})"
   ]
  },
  {
   "cell_type": "code",
   "execution_count": 15,
   "id": "a9016faf",
   "metadata": {},
   "outputs": [],
   "source": [
    "button.on_click(onButtonClick)"
   ]
  },
  {
   "cell_type": "code",
   "execution_count": 16,
   "id": "9ac1b7f8",
   "metadata": {
    "scrolled": true
   },
   "outputs": [
    {
     "name": "stderr",
     "output_type": "stream",
     "text": [
      "Widget Javascript not detected.  It may not be installed or enabled properly. Reconnecting the current kernel may help.\n"
     ]
    },
    {
     "data": {
      "application/vnd.jupyter.widget-view+json": {
       "model_id": "bb3dfb098de844809c0df109c653f67a"
      }
     },
     "metadata": {},
     "output_type": "display_data"
    },
    {
     "name": "stderr",
     "output_type": "stream",
     "text": [
      "Widget Javascript not detected.  It may not be installed or enabled properly. Reconnecting the current kernel may help.\n"
     ]
    },
    {
     "data": {
      "application/vnd.jupyter.widget-view+json": {
       "model_id": "2e140adedf0b4d1b80651aad9729fab2"
      }
     },
     "metadata": {},
     "output_type": "display_data"
    }
   ],
   "source": [
    "display(HBox([slider, button]))\n",
    "display(surface)"
   ]
  }
 ],
 "metadata": {
  "kernelspec": {
   "display_name": "Python 3 (ipykernel)",
   "language": "python",
   "name": "python3"
  },
  "language_info": {
   "codemirror_mode": {
    "name": "ipython",
    "version": 3
   },
   "file_extension": ".py",
   "mimetype": "text/x-python",
   "name": "python",
   "nbconvert_exporter": "python",
   "pygments_lexer": "ipython3",
   "version": "3.10.6"
  }
 },
 "nbformat": 4,
 "nbformat_minor": 5
}
